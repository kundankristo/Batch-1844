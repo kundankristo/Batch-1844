{
 "cells": [
  {
   "cell_type": "markdown",
   "id": "8909e18e",
   "metadata": {},
   "source": [
    "# Problem Statement:"
   ]
  },
  {
   "cell_type": "markdown",
   "id": "23f14580",
   "metadata": {},
   "source": [
    "Avocado is a fruit consumed by people heavily in the United States. \n",
    "\n",
    "Content\n",
    "This data was downloaded from the Hass Avocado Board website in May of 2018 & compiled into a single CSV. \n",
    "\n",
    "The table below represents weekly 2018 retail scan data for National retail volume (units) and price. Retail scan data comes directly from retailers’ cash registers based on actual retail sales of Hass avocados. \n",
    "\n",
    "Starting in 2013, the table below reflects an expanded, multi-outlet retail data set. Multi-outlet reporting includes an aggregation of the following channels: grocery, mass, club, drug, dollar and military. The Average Price (of avocados) in the table reflects a per unit (per avocado) cost, even when multiple units (avocados) are sold in bags. \n",
    "\n",
    "The Product Lookup codes (PLU’s) in the table are only for Hass avocados. Other varieties of avocados (e.g. greenskins) are not included in this table.\n",
    "\n",
    "Some relevant columns in the dataset:\n",
    "\n",
    "Date - The date of the observation\n",
    "AveragePrice - the average price of a single avocado\n",
    "type - conventional or organic\n",
    "year - the year\n",
    "Region - the city or region of the observation\n",
    "Total Volume - Total number of avocados sold\n",
    "4046 - Total number of avocados with PLU 4046 sold\n",
    "4225 - Total number of avocados with PLU 4225 sold\n",
    "4770 - Total number of avocados with PLU 4770 sold\n",
    "\n",
    "\n",
    "Inspiration /Label \n",
    "\n",
    "The dataset can be seen in two angles to find the region and find the average price .\n",
    "\n",
    "Task: One of Classification and other of Regression\n",
    "\n",
    "Do both tasks in the same .ipynb file and submit at single file. \n",
    "\n",
    "To download the dataset, use the link given below. \n",
    "\n",
    "Downlaod Files:\n",
    "https://github.com/dsrscientist/Data-Science-ML-Capstone-Projects/blob/master/avocado.csv.zip\n"
   ]
  },
  {
   "cell_type": "markdown",
   "id": "faa1090e",
   "metadata": {},
   "source": [
    "### Importing Project rquired packages/dependencies"
   ]
  },
  {
   "cell_type": "code",
   "execution_count": 82,
   "id": "43fc55e7",
   "metadata": {},
   "outputs": [],
   "source": [
    "import matplotlib.pyplot as plt\n",
    "import seaborn as sns\n",
    "import pandas as pd\n",
    "import numpy as np\n",
    "from sklearn.model_selection import train_test_split, GridSearchCV, RandomizedSearchCV, cross_val_score\n",
    "from sklearn.preprocessing import StandardScaler \n",
    "from sklearn.linear_model import LinearRegression , Ridge, Lasso\n",
    "from sklearn.ensemble import RandomForestRegressor , AdaBoostRegressor\n",
    "from sklearn.tree import DecisionTreeRegressor\n",
    "from sklearn.svm import SVR\n",
    "from sklearn.neighbors import KNeighborsRegressor\n",
    "from sklearn.metrics import r2_score,mean_squared_error\n",
    "\n",
    "import warnings\n",
    "warnings.filterwarnings('ignore')\n"
   ]
  },
  {
   "cell_type": "code",
   "execution_count": 83,
   "id": "6b94077c",
   "metadata": {},
   "outputs": [],
   "source": [
    "#create dataframe\n",
    "a_ds = pd.read_csv(\"avocado.csv\")"
   ]
  },
  {
   "cell_type": "code",
   "execution_count": 84,
   "id": "5f92c4ca",
   "metadata": {},
   "outputs": [
    {
     "data": {
      "text/html": [
       "<div>\n",
       "<style scoped>\n",
       "    .dataframe tbody tr th:only-of-type {\n",
       "        vertical-align: middle;\n",
       "    }\n",
       "\n",
       "    .dataframe tbody tr th {\n",
       "        vertical-align: top;\n",
       "    }\n",
       "\n",
       "    .dataframe thead th {\n",
       "        text-align: right;\n",
       "    }\n",
       "</style>\n",
       "<table border=\"1\" class=\"dataframe\">\n",
       "  <thead>\n",
       "    <tr style=\"text-align: right;\">\n",
       "      <th></th>\n",
       "      <th>Unnamed: 0</th>\n",
       "      <th>Date</th>\n",
       "      <th>AveragePrice</th>\n",
       "      <th>Total Volume</th>\n",
       "      <th>4046</th>\n",
       "      <th>4225</th>\n",
       "      <th>4770</th>\n",
       "      <th>Total Bags</th>\n",
       "      <th>Small Bags</th>\n",
       "      <th>Large Bags</th>\n",
       "      <th>XLarge Bags</th>\n",
       "      <th>type</th>\n",
       "      <th>year</th>\n",
       "      <th>region</th>\n",
       "    </tr>\n",
       "  </thead>\n",
       "  <tbody>\n",
       "    <tr>\n",
       "      <th>0</th>\n",
       "      <td>0</td>\n",
       "      <td>2015-12-27</td>\n",
       "      <td>1.33</td>\n",
       "      <td>64236.62</td>\n",
       "      <td>1036.74</td>\n",
       "      <td>54454.85</td>\n",
       "      <td>48.16</td>\n",
       "      <td>8696.87</td>\n",
       "      <td>8603.62</td>\n",
       "      <td>93.25</td>\n",
       "      <td>0.0</td>\n",
       "      <td>conventional</td>\n",
       "      <td>2015</td>\n",
       "      <td>Albany</td>\n",
       "    </tr>\n",
       "    <tr>\n",
       "      <th>1</th>\n",
       "      <td>1</td>\n",
       "      <td>2015-12-20</td>\n",
       "      <td>1.35</td>\n",
       "      <td>54876.98</td>\n",
       "      <td>674.28</td>\n",
       "      <td>44638.81</td>\n",
       "      <td>58.33</td>\n",
       "      <td>9505.56</td>\n",
       "      <td>9408.07</td>\n",
       "      <td>97.49</td>\n",
       "      <td>0.0</td>\n",
       "      <td>conventional</td>\n",
       "      <td>2015</td>\n",
       "      <td>Albany</td>\n",
       "    </tr>\n",
       "    <tr>\n",
       "      <th>2</th>\n",
       "      <td>2</td>\n",
       "      <td>2015-12-13</td>\n",
       "      <td>0.93</td>\n",
       "      <td>118220.22</td>\n",
       "      <td>794.70</td>\n",
       "      <td>109149.67</td>\n",
       "      <td>130.50</td>\n",
       "      <td>8145.35</td>\n",
       "      <td>8042.21</td>\n",
       "      <td>103.14</td>\n",
       "      <td>0.0</td>\n",
       "      <td>conventional</td>\n",
       "      <td>2015</td>\n",
       "      <td>Albany</td>\n",
       "    </tr>\n",
       "    <tr>\n",
       "      <th>3</th>\n",
       "      <td>3</td>\n",
       "      <td>2015-12-06</td>\n",
       "      <td>1.08</td>\n",
       "      <td>78992.15</td>\n",
       "      <td>1132.00</td>\n",
       "      <td>71976.41</td>\n",
       "      <td>72.58</td>\n",
       "      <td>5811.16</td>\n",
       "      <td>5677.40</td>\n",
       "      <td>133.76</td>\n",
       "      <td>0.0</td>\n",
       "      <td>conventional</td>\n",
       "      <td>2015</td>\n",
       "      <td>Albany</td>\n",
       "    </tr>\n",
       "    <tr>\n",
       "      <th>4</th>\n",
       "      <td>4</td>\n",
       "      <td>2015-11-29</td>\n",
       "      <td>1.28</td>\n",
       "      <td>51039.60</td>\n",
       "      <td>941.48</td>\n",
       "      <td>43838.39</td>\n",
       "      <td>75.78</td>\n",
       "      <td>6183.95</td>\n",
       "      <td>5986.26</td>\n",
       "      <td>197.69</td>\n",
       "      <td>0.0</td>\n",
       "      <td>conventional</td>\n",
       "      <td>2015</td>\n",
       "      <td>Albany</td>\n",
       "    </tr>\n",
       "  </tbody>\n",
       "</table>\n",
       "</div>"
      ],
      "text/plain": [
       "   Unnamed: 0        Date  AveragePrice  Total Volume     4046       4225  \\\n",
       "0           0  2015-12-27          1.33      64236.62  1036.74   54454.85   \n",
       "1           1  2015-12-20          1.35      54876.98   674.28   44638.81   \n",
       "2           2  2015-12-13          0.93     118220.22   794.70  109149.67   \n",
       "3           3  2015-12-06          1.08      78992.15  1132.00   71976.41   \n",
       "4           4  2015-11-29          1.28      51039.60   941.48   43838.39   \n",
       "\n",
       "     4770  Total Bags  Small Bags  Large Bags  XLarge Bags          type  \\\n",
       "0   48.16     8696.87     8603.62       93.25          0.0  conventional   \n",
       "1   58.33     9505.56     9408.07       97.49          0.0  conventional   \n",
       "2  130.50     8145.35     8042.21      103.14          0.0  conventional   \n",
       "3   72.58     5811.16     5677.40      133.76          0.0  conventional   \n",
       "4   75.78     6183.95     5986.26      197.69          0.0  conventional   \n",
       "\n",
       "   year  region  \n",
       "0  2015  Albany  \n",
       "1  2015  Albany  \n",
       "2  2015  Albany  \n",
       "3  2015  Albany  \n",
       "4  2015  Albany  "
      ]
     },
     "execution_count": 84,
     "metadata": {},
     "output_type": "execute_result"
    }
   ],
   "source": [
    "#checking top five rows\n",
    "\n",
    "a_ds.head()"
   ]
  },
  {
   "cell_type": "code",
   "execution_count": 85,
   "id": "462d33f5",
   "metadata": {},
   "outputs": [
    {
     "data": {
      "text/html": [
       "<div>\n",
       "<style scoped>\n",
       "    .dataframe tbody tr th:only-of-type {\n",
       "        vertical-align: middle;\n",
       "    }\n",
       "\n",
       "    .dataframe tbody tr th {\n",
       "        vertical-align: top;\n",
       "    }\n",
       "\n",
       "    .dataframe thead th {\n",
       "        text-align: right;\n",
       "    }\n",
       "</style>\n",
       "<table border=\"1\" class=\"dataframe\">\n",
       "  <thead>\n",
       "    <tr style=\"text-align: right;\">\n",
       "      <th></th>\n",
       "      <th>Unnamed: 0</th>\n",
       "      <th>Date</th>\n",
       "      <th>AveragePrice</th>\n",
       "      <th>Total Volume</th>\n",
       "      <th>4046</th>\n",
       "      <th>4225</th>\n",
       "      <th>4770</th>\n",
       "      <th>Total Bags</th>\n",
       "      <th>Small Bags</th>\n",
       "      <th>Large Bags</th>\n",
       "      <th>XLarge Bags</th>\n",
       "      <th>type</th>\n",
       "      <th>year</th>\n",
       "      <th>region</th>\n",
       "    </tr>\n",
       "  </thead>\n",
       "  <tbody>\n",
       "    <tr>\n",
       "      <th>18244</th>\n",
       "      <td>7</td>\n",
       "      <td>2018-02-04</td>\n",
       "      <td>1.63</td>\n",
       "      <td>17074.83</td>\n",
       "      <td>2046.96</td>\n",
       "      <td>1529.20</td>\n",
       "      <td>0.00</td>\n",
       "      <td>13498.67</td>\n",
       "      <td>13066.82</td>\n",
       "      <td>431.85</td>\n",
       "      <td>0.0</td>\n",
       "      <td>organic</td>\n",
       "      <td>2018</td>\n",
       "      <td>WestTexNewMexico</td>\n",
       "    </tr>\n",
       "    <tr>\n",
       "      <th>18245</th>\n",
       "      <td>8</td>\n",
       "      <td>2018-01-28</td>\n",
       "      <td>1.71</td>\n",
       "      <td>13888.04</td>\n",
       "      <td>1191.70</td>\n",
       "      <td>3431.50</td>\n",
       "      <td>0.00</td>\n",
       "      <td>9264.84</td>\n",
       "      <td>8940.04</td>\n",
       "      <td>324.80</td>\n",
       "      <td>0.0</td>\n",
       "      <td>organic</td>\n",
       "      <td>2018</td>\n",
       "      <td>WestTexNewMexico</td>\n",
       "    </tr>\n",
       "    <tr>\n",
       "      <th>18246</th>\n",
       "      <td>9</td>\n",
       "      <td>2018-01-21</td>\n",
       "      <td>1.87</td>\n",
       "      <td>13766.76</td>\n",
       "      <td>1191.92</td>\n",
       "      <td>2452.79</td>\n",
       "      <td>727.94</td>\n",
       "      <td>9394.11</td>\n",
       "      <td>9351.80</td>\n",
       "      <td>42.31</td>\n",
       "      <td>0.0</td>\n",
       "      <td>organic</td>\n",
       "      <td>2018</td>\n",
       "      <td>WestTexNewMexico</td>\n",
       "    </tr>\n",
       "    <tr>\n",
       "      <th>18247</th>\n",
       "      <td>10</td>\n",
       "      <td>2018-01-14</td>\n",
       "      <td>1.93</td>\n",
       "      <td>16205.22</td>\n",
       "      <td>1527.63</td>\n",
       "      <td>2981.04</td>\n",
       "      <td>727.01</td>\n",
       "      <td>10969.54</td>\n",
       "      <td>10919.54</td>\n",
       "      <td>50.00</td>\n",
       "      <td>0.0</td>\n",
       "      <td>organic</td>\n",
       "      <td>2018</td>\n",
       "      <td>WestTexNewMexico</td>\n",
       "    </tr>\n",
       "    <tr>\n",
       "      <th>18248</th>\n",
       "      <td>11</td>\n",
       "      <td>2018-01-07</td>\n",
       "      <td>1.62</td>\n",
       "      <td>17489.58</td>\n",
       "      <td>2894.77</td>\n",
       "      <td>2356.13</td>\n",
       "      <td>224.53</td>\n",
       "      <td>12014.15</td>\n",
       "      <td>11988.14</td>\n",
       "      <td>26.01</td>\n",
       "      <td>0.0</td>\n",
       "      <td>organic</td>\n",
       "      <td>2018</td>\n",
       "      <td>WestTexNewMexico</td>\n",
       "    </tr>\n",
       "  </tbody>\n",
       "</table>\n",
       "</div>"
      ],
      "text/plain": [
       "       Unnamed: 0        Date  AveragePrice  Total Volume     4046     4225  \\\n",
       "18244           7  2018-02-04          1.63      17074.83  2046.96  1529.20   \n",
       "18245           8  2018-01-28          1.71      13888.04  1191.70  3431.50   \n",
       "18246           9  2018-01-21          1.87      13766.76  1191.92  2452.79   \n",
       "18247          10  2018-01-14          1.93      16205.22  1527.63  2981.04   \n",
       "18248          11  2018-01-07          1.62      17489.58  2894.77  2356.13   \n",
       "\n",
       "         4770  Total Bags  Small Bags  Large Bags  XLarge Bags     type  year  \\\n",
       "18244    0.00    13498.67    13066.82      431.85          0.0  organic  2018   \n",
       "18245    0.00     9264.84     8940.04      324.80          0.0  organic  2018   \n",
       "18246  727.94     9394.11     9351.80       42.31          0.0  organic  2018   \n",
       "18247  727.01    10969.54    10919.54       50.00          0.0  organic  2018   \n",
       "18248  224.53    12014.15    11988.14       26.01          0.0  organic  2018   \n",
       "\n",
       "                 region  \n",
       "18244  WestTexNewMexico  \n",
       "18245  WestTexNewMexico  \n",
       "18246  WestTexNewMexico  \n",
       "18247  WestTexNewMexico  \n",
       "18248  WestTexNewMexico  "
      ]
     },
     "execution_count": 85,
     "metadata": {},
     "output_type": "execute_result"
    }
   ],
   "source": [
    "#checking last five rows\n",
    "a_ds.tail()"
   ]
  },
  {
   "cell_type": "code",
   "execution_count": 86,
   "id": "e15e8c29",
   "metadata": {},
   "outputs": [
    {
     "data": {
      "text/html": [
       "<div>\n",
       "<style scoped>\n",
       "    .dataframe tbody tr th:only-of-type {\n",
       "        vertical-align: middle;\n",
       "    }\n",
       "\n",
       "    .dataframe tbody tr th {\n",
       "        vertical-align: top;\n",
       "    }\n",
       "\n",
       "    .dataframe thead th {\n",
       "        text-align: right;\n",
       "    }\n",
       "</style>\n",
       "<table border=\"1\" class=\"dataframe\">\n",
       "  <thead>\n",
       "    <tr style=\"text-align: right;\">\n",
       "      <th></th>\n",
       "      <th>Unnamed: 0</th>\n",
       "      <th>Date</th>\n",
       "      <th>AveragePrice</th>\n",
       "      <th>Total Volume</th>\n",
       "      <th>4046</th>\n",
       "      <th>4225</th>\n",
       "      <th>4770</th>\n",
       "      <th>Total Bags</th>\n",
       "      <th>Small Bags</th>\n",
       "      <th>Large Bags</th>\n",
       "      <th>XLarge Bags</th>\n",
       "      <th>type</th>\n",
       "      <th>year</th>\n",
       "      <th>region</th>\n",
       "    </tr>\n",
       "  </thead>\n",
       "  <tbody>\n",
       "    <tr>\n",
       "      <th>5451</th>\n",
       "      <td>43</td>\n",
       "      <td>2016-02-28</td>\n",
       "      <td>0.82</td>\n",
       "      <td>569349.05</td>\n",
       "      <td>248401.81</td>\n",
       "      <td>134264.79</td>\n",
       "      <td>46.83</td>\n",
       "      <td>186635.62</td>\n",
       "      <td>67866.87</td>\n",
       "      <td>118768.75</td>\n",
       "      <td>0.00</td>\n",
       "      <td>conventional</td>\n",
       "      <td>2016</td>\n",
       "      <td>Tampa</td>\n",
       "    </tr>\n",
       "    <tr>\n",
       "      <th>9400</th>\n",
       "      <td>14</td>\n",
       "      <td>2015-09-20</td>\n",
       "      <td>1.56</td>\n",
       "      <td>3291.61</td>\n",
       "      <td>33.31</td>\n",
       "      <td>127.31</td>\n",
       "      <td>0.00</td>\n",
       "      <td>3130.99</td>\n",
       "      <td>3130.99</td>\n",
       "      <td>0.00</td>\n",
       "      <td>0.00</td>\n",
       "      <td>organic</td>\n",
       "      <td>2015</td>\n",
       "      <td>BuffaloRochester</td>\n",
       "    </tr>\n",
       "    <tr>\n",
       "      <th>2954</th>\n",
       "      <td>42</td>\n",
       "      <td>2016-03-06</td>\n",
       "      <td>1.21</td>\n",
       "      <td>819706.70</td>\n",
       "      <td>62539.58</td>\n",
       "      <td>541218.77</td>\n",
       "      <td>21461.02</td>\n",
       "      <td>194487.33</td>\n",
       "      <td>191744.58</td>\n",
       "      <td>2742.75</td>\n",
       "      <td>0.00</td>\n",
       "      <td>conventional</td>\n",
       "      <td>2016</td>\n",
       "      <td>BaltimoreWashington</td>\n",
       "    </tr>\n",
       "    <tr>\n",
       "      <th>7675</th>\n",
       "      <td>45</td>\n",
       "      <td>2017-02-19</td>\n",
       "      <td>1.18</td>\n",
       "      <td>241012.17</td>\n",
       "      <td>68120.76</td>\n",
       "      <td>90486.17</td>\n",
       "      <td>3142.36</td>\n",
       "      <td>79262.88</td>\n",
       "      <td>78087.14</td>\n",
       "      <td>1175.74</td>\n",
       "      <td>0.00</td>\n",
       "      <td>conventional</td>\n",
       "      <td>2017</td>\n",
       "      <td>RichmondNorfolk</td>\n",
       "    </tr>\n",
       "    <tr>\n",
       "      <th>7543</th>\n",
       "      <td>19</td>\n",
       "      <td>2017-08-20</td>\n",
       "      <td>1.32</td>\n",
       "      <td>671617.66</td>\n",
       "      <td>191682.01</td>\n",
       "      <td>131531.25</td>\n",
       "      <td>15625.26</td>\n",
       "      <td>332779.14</td>\n",
       "      <td>276359.88</td>\n",
       "      <td>55932.31</td>\n",
       "      <td>486.95</td>\n",
       "      <td>conventional</td>\n",
       "      <td>2017</td>\n",
       "      <td>Portland</td>\n",
       "    </tr>\n",
       "  </tbody>\n",
       "</table>\n",
       "</div>"
      ],
      "text/plain": [
       "      Unnamed: 0        Date  AveragePrice  Total Volume       4046  \\\n",
       "5451          43  2016-02-28          0.82     569349.05  248401.81   \n",
       "9400          14  2015-09-20          1.56       3291.61      33.31   \n",
       "2954          42  2016-03-06          1.21     819706.70   62539.58   \n",
       "7675          45  2017-02-19          1.18     241012.17   68120.76   \n",
       "7543          19  2017-08-20          1.32     671617.66  191682.01   \n",
       "\n",
       "           4225      4770  Total Bags  Small Bags  Large Bags  XLarge Bags  \\\n",
       "5451  134264.79     46.83   186635.62    67866.87   118768.75         0.00   \n",
       "9400     127.31      0.00     3130.99     3130.99        0.00         0.00   \n",
       "2954  541218.77  21461.02   194487.33   191744.58     2742.75         0.00   \n",
       "7675   90486.17   3142.36    79262.88    78087.14     1175.74         0.00   \n",
       "7543  131531.25  15625.26   332779.14   276359.88    55932.31       486.95   \n",
       "\n",
       "              type  year               region  \n",
       "5451  conventional  2016                Tampa  \n",
       "9400       organic  2015     BuffaloRochester  \n",
       "2954  conventional  2016  BaltimoreWashington  \n",
       "7675  conventional  2017      RichmondNorfolk  \n",
       "7543  conventional  2017             Portland  "
      ]
     },
     "execution_count": 86,
     "metadata": {},
     "output_type": "execute_result"
    }
   ],
   "source": [
    "a_ds.sample(n=5)"
   ]
  },
  {
   "cell_type": "code",
   "execution_count": 87,
   "id": "098fd4e2",
   "metadata": {},
   "outputs": [
    {
     "data": {
      "text/html": [
       "<div>\n",
       "<style scoped>\n",
       "    .dataframe tbody tr th:only-of-type {\n",
       "        vertical-align: middle;\n",
       "    }\n",
       "\n",
       "    .dataframe tbody tr th {\n",
       "        vertical-align: top;\n",
       "    }\n",
       "\n",
       "    .dataframe thead th {\n",
       "        text-align: right;\n",
       "    }\n",
       "</style>\n",
       "<table border=\"1\" class=\"dataframe\">\n",
       "  <thead>\n",
       "    <tr style=\"text-align: right;\">\n",
       "      <th></th>\n",
       "      <th>Unnamed: 0</th>\n",
       "      <th>Date</th>\n",
       "      <th>AveragePrice</th>\n",
       "      <th>Total Volume</th>\n",
       "      <th>4046</th>\n",
       "      <th>4225</th>\n",
       "      <th>4770</th>\n",
       "      <th>Total Bags</th>\n",
       "      <th>Small Bags</th>\n",
       "      <th>Large Bags</th>\n",
       "      <th>XLarge Bags</th>\n",
       "      <th>type</th>\n",
       "      <th>year</th>\n",
       "      <th>region</th>\n",
       "    </tr>\n",
       "  </thead>\n",
       "  <tbody>\n",
       "    <tr>\n",
       "      <th>11778</th>\n",
       "      <td>0</td>\n",
       "      <td>2015-12-27</td>\n",
       "      <td>1.52</td>\n",
       "      <td>549787.59</td>\n",
       "      <td>89709.92</td>\n",
       "      <td>206198.62</td>\n",
       "      <td>5836.04</td>\n",
       "      <td>248043.01</td>\n",
       "      <td>142262.93</td>\n",
       "      <td>105780.08</td>\n",
       "      <td>0.0</td>\n",
       "      <td>organic</td>\n",
       "      <td>2015</td>\n",
       "      <td>TotalUS</td>\n",
       "    </tr>\n",
       "  </tbody>\n",
       "</table>\n",
       "</div>"
      ],
      "text/plain": [
       "       Unnamed: 0        Date  AveragePrice  Total Volume      4046  \\\n",
       "11778           0  2015-12-27          1.52     549787.59  89709.92   \n",
       "\n",
       "            4225     4770  Total Bags  Small Bags  Large Bags  XLarge Bags  \\\n",
       "11778  206198.62  5836.04   248043.01   142262.93   105780.08          0.0   \n",
       "\n",
       "          type  year   region  \n",
       "11778  organic  2015  TotalUS  "
      ]
     },
     "execution_count": 87,
     "metadata": {},
     "output_type": "execute_result"
    }
   ],
   "source": [
    "a_ds.sample(axis = 0)"
   ]
  },
  {
   "cell_type": "code",
   "execution_count": 88,
   "id": "5d9ae035",
   "metadata": {},
   "outputs": [
    {
     "name": "stdout",
     "output_type": "stream",
     "text": [
      "(18249, 14)\n",
      " \n",
      "Unnamed: 0        int64\n",
      "Date             object\n",
      "AveragePrice    float64\n",
      "Total Volume    float64\n",
      "4046            float64\n",
      "4225            float64\n",
      "4770            float64\n",
      "Total Bags      float64\n",
      "Small Bags      float64\n",
      "Large Bags      float64\n",
      "XLarge Bags     float64\n",
      "type             object\n",
      "year              int64\n",
      "region           object\n",
      "dtype: object\n"
     ]
    }
   ],
   "source": [
    "#checking shape & datatypes of the columns in data...\n",
    "print(a_ds.shape)\n",
    "print(' ')\n",
    "print(a_ds.dtypes)"
   ]
  },
  {
   "cell_type": "code",
   "execution_count": 89,
   "id": "50e5695f",
   "metadata": {},
   "outputs": [
    {
     "name": "stdout",
     "output_type": "stream",
     "text": [
      "<class 'pandas.core.frame.DataFrame'>\n",
      "RangeIndex: 18249 entries, 0 to 18248\n",
      "Data columns (total 14 columns):\n",
      " #   Column        Non-Null Count  Dtype  \n",
      "---  ------        --------------  -----  \n",
      " 0   Unnamed: 0    18249 non-null  int64  \n",
      " 1   Date          18249 non-null  object \n",
      " 2   AveragePrice  18249 non-null  float64\n",
      " 3   Total Volume  18249 non-null  float64\n",
      " 4   4046          18249 non-null  float64\n",
      " 5   4225          18249 non-null  float64\n",
      " 6   4770          18249 non-null  float64\n",
      " 7   Total Bags    18249 non-null  float64\n",
      " 8   Small Bags    18249 non-null  float64\n",
      " 9   Large Bags    18249 non-null  float64\n",
      " 10  XLarge Bags   18249 non-null  float64\n",
      " 11  type          18249 non-null  object \n",
      " 12  year          18249 non-null  int64  \n",
      " 13  region        18249 non-null  object \n",
      "dtypes: float64(9), int64(2), object(3)\n",
      "memory usage: 1.9+ MB\n"
     ]
    }
   ],
   "source": [
    "a_ds.info()"
   ]
  },
  {
   "cell_type": "markdown",
   "id": "d93209df",
   "metadata": {},
   "source": [
    "### Observation:\n",
    "the data set has 18249 rows of data & 14 Columns\n",
    "\n",
    "The first Column is Unnamed.. No mention of this column in Problem description so its irrelevant We will drop it."
   ]
  },
  {
   "cell_type": "code",
   "execution_count": 90,
   "id": "00606586",
   "metadata": {},
   "outputs": [],
   "source": [
    "a_ds.drop('Unnamed: 0', axis=1, inplace=True)"
   ]
  },
  {
   "cell_type": "code",
   "execution_count": 91,
   "id": "5df5a701",
   "metadata": {},
   "outputs": [
    {
     "data": {
      "text/plain": [
       "0"
      ]
     },
     "execution_count": 91,
     "metadata": {},
     "output_type": "execute_result"
    }
   ],
   "source": [
    "#Checking for duplicate entries\n",
    "a_ds.duplicated().sum()"
   ]
  },
  {
   "cell_type": "code",
   "execution_count": 92,
   "id": "da9f9bae",
   "metadata": {},
   "outputs": [
    {
     "name": "stdout",
     "output_type": "stream",
     "text": [
      "(18249, 13)\n",
      "Index(['Date', 'AveragePrice', 'Total Volume', '4046', '4225', '4770',\n",
      "       'Total Bags', 'Small Bags', 'Large Bags', 'XLarge Bags', 'type', 'year',\n",
      "       'region'],\n",
      "      dtype='object')\n"
     ]
    }
   ],
   "source": [
    "# checking the shape of the dataset and columns in it\n",
    "print(a_ds.shape)\n",
    "print(a_ds.columns)"
   ]
  },
  {
   "cell_type": "code",
   "execution_count": 93,
   "id": "6707fab3",
   "metadata": {},
   "outputs": [
    {
     "data": {
      "text/html": [
       "<div>\n",
       "<style scoped>\n",
       "    .dataframe tbody tr th:only-of-type {\n",
       "        vertical-align: middle;\n",
       "    }\n",
       "\n",
       "    .dataframe tbody tr th {\n",
       "        vertical-align: top;\n",
       "    }\n",
       "\n",
       "    .dataframe thead th {\n",
       "        text-align: right;\n",
       "    }\n",
       "</style>\n",
       "<table border=\"1\" class=\"dataframe\">\n",
       "  <thead>\n",
       "    <tr style=\"text-align: right;\">\n",
       "      <th></th>\n",
       "      <th>AveragePrice</th>\n",
       "      <th>Total Volume</th>\n",
       "      <th>4046</th>\n",
       "      <th>4225</th>\n",
       "      <th>4770</th>\n",
       "      <th>Total Bags</th>\n",
       "      <th>Small Bags</th>\n",
       "      <th>Large Bags</th>\n",
       "      <th>XLarge Bags</th>\n",
       "      <th>year</th>\n",
       "    </tr>\n",
       "  </thead>\n",
       "  <tbody>\n",
       "    <tr>\n",
       "      <th>count</th>\n",
       "      <td>18249.000000</td>\n",
       "      <td>1.824900e+04</td>\n",
       "      <td>1.824900e+04</td>\n",
       "      <td>1.824900e+04</td>\n",
       "      <td>1.824900e+04</td>\n",
       "      <td>1.824900e+04</td>\n",
       "      <td>1.824900e+04</td>\n",
       "      <td>1.824900e+04</td>\n",
       "      <td>18249.000000</td>\n",
       "      <td>18249.000000</td>\n",
       "    </tr>\n",
       "    <tr>\n",
       "      <th>mean</th>\n",
       "      <td>1.405978</td>\n",
       "      <td>8.506440e+05</td>\n",
       "      <td>2.930084e+05</td>\n",
       "      <td>2.951546e+05</td>\n",
       "      <td>2.283974e+04</td>\n",
       "      <td>2.396392e+05</td>\n",
       "      <td>1.821947e+05</td>\n",
       "      <td>5.433809e+04</td>\n",
       "      <td>3106.426507</td>\n",
       "      <td>2016.147899</td>\n",
       "    </tr>\n",
       "    <tr>\n",
       "      <th>std</th>\n",
       "      <td>0.402677</td>\n",
       "      <td>3.453545e+06</td>\n",
       "      <td>1.264989e+06</td>\n",
       "      <td>1.204120e+06</td>\n",
       "      <td>1.074641e+05</td>\n",
       "      <td>9.862424e+05</td>\n",
       "      <td>7.461785e+05</td>\n",
       "      <td>2.439660e+05</td>\n",
       "      <td>17692.894652</td>\n",
       "      <td>0.939938</td>\n",
       "    </tr>\n",
       "    <tr>\n",
       "      <th>min</th>\n",
       "      <td>0.440000</td>\n",
       "      <td>8.456000e+01</td>\n",
       "      <td>0.000000e+00</td>\n",
       "      <td>0.000000e+00</td>\n",
       "      <td>0.000000e+00</td>\n",
       "      <td>0.000000e+00</td>\n",
       "      <td>0.000000e+00</td>\n",
       "      <td>0.000000e+00</td>\n",
       "      <td>0.000000</td>\n",
       "      <td>2015.000000</td>\n",
       "    </tr>\n",
       "    <tr>\n",
       "      <th>25%</th>\n",
       "      <td>1.100000</td>\n",
       "      <td>1.083858e+04</td>\n",
       "      <td>8.540700e+02</td>\n",
       "      <td>3.008780e+03</td>\n",
       "      <td>0.000000e+00</td>\n",
       "      <td>5.088640e+03</td>\n",
       "      <td>2.849420e+03</td>\n",
       "      <td>1.274700e+02</td>\n",
       "      <td>0.000000</td>\n",
       "      <td>2015.000000</td>\n",
       "    </tr>\n",
       "    <tr>\n",
       "      <th>50%</th>\n",
       "      <td>1.370000</td>\n",
       "      <td>1.073768e+05</td>\n",
       "      <td>8.645300e+03</td>\n",
       "      <td>2.906102e+04</td>\n",
       "      <td>1.849900e+02</td>\n",
       "      <td>3.974383e+04</td>\n",
       "      <td>2.636282e+04</td>\n",
       "      <td>2.647710e+03</td>\n",
       "      <td>0.000000</td>\n",
       "      <td>2016.000000</td>\n",
       "    </tr>\n",
       "    <tr>\n",
       "      <th>75%</th>\n",
       "      <td>1.660000</td>\n",
       "      <td>4.329623e+05</td>\n",
       "      <td>1.110202e+05</td>\n",
       "      <td>1.502069e+05</td>\n",
       "      <td>6.243420e+03</td>\n",
       "      <td>1.107834e+05</td>\n",
       "      <td>8.333767e+04</td>\n",
       "      <td>2.202925e+04</td>\n",
       "      <td>132.500000</td>\n",
       "      <td>2017.000000</td>\n",
       "    </tr>\n",
       "    <tr>\n",
       "      <th>max</th>\n",
       "      <td>3.250000</td>\n",
       "      <td>6.250565e+07</td>\n",
       "      <td>2.274362e+07</td>\n",
       "      <td>2.047057e+07</td>\n",
       "      <td>2.546439e+06</td>\n",
       "      <td>1.937313e+07</td>\n",
       "      <td>1.338459e+07</td>\n",
       "      <td>5.719097e+06</td>\n",
       "      <td>551693.650000</td>\n",
       "      <td>2018.000000</td>\n",
       "    </tr>\n",
       "  </tbody>\n",
       "</table>\n",
       "</div>"
      ],
      "text/plain": [
       "       AveragePrice  Total Volume          4046          4225          4770  \\\n",
       "count  18249.000000  1.824900e+04  1.824900e+04  1.824900e+04  1.824900e+04   \n",
       "mean       1.405978  8.506440e+05  2.930084e+05  2.951546e+05  2.283974e+04   \n",
       "std        0.402677  3.453545e+06  1.264989e+06  1.204120e+06  1.074641e+05   \n",
       "min        0.440000  8.456000e+01  0.000000e+00  0.000000e+00  0.000000e+00   \n",
       "25%        1.100000  1.083858e+04  8.540700e+02  3.008780e+03  0.000000e+00   \n",
       "50%        1.370000  1.073768e+05  8.645300e+03  2.906102e+04  1.849900e+02   \n",
       "75%        1.660000  4.329623e+05  1.110202e+05  1.502069e+05  6.243420e+03   \n",
       "max        3.250000  6.250565e+07  2.274362e+07  2.047057e+07  2.546439e+06   \n",
       "\n",
       "         Total Bags    Small Bags    Large Bags    XLarge Bags          year  \n",
       "count  1.824900e+04  1.824900e+04  1.824900e+04   18249.000000  18249.000000  \n",
       "mean   2.396392e+05  1.821947e+05  5.433809e+04    3106.426507   2016.147899  \n",
       "std    9.862424e+05  7.461785e+05  2.439660e+05   17692.894652      0.939938  \n",
       "min    0.000000e+00  0.000000e+00  0.000000e+00       0.000000   2015.000000  \n",
       "25%    5.088640e+03  2.849420e+03  1.274700e+02       0.000000   2015.000000  \n",
       "50%    3.974383e+04  2.636282e+04  2.647710e+03       0.000000   2016.000000  \n",
       "75%    1.107834e+05  8.333767e+04  2.202925e+04     132.500000   2017.000000  \n",
       "max    1.937313e+07  1.338459e+07  5.719097e+06  551693.650000   2018.000000  "
      ]
     },
     "execution_count": 93,
     "metadata": {},
     "output_type": "execute_result"
    }
   ],
   "source": [
    "#Checking for descriptive statistics\n",
    "\n",
    "a_ds.describe()"
   ]
  },
  {
   "cell_type": "code",
   "execution_count": 94,
   "id": "84945413",
   "metadata": {},
   "outputs": [
    {
     "data": {
      "text/plain": [
       "Date            0\n",
       "AveragePrice    0\n",
       "Total Volume    0\n",
       "4046            0\n",
       "4225            0\n",
       "4770            0\n",
       "Total Bags      0\n",
       "Small Bags      0\n",
       "Large Bags      0\n",
       "XLarge Bags     0\n",
       "type            0\n",
       "year            0\n",
       "region          0\n",
       "dtype: int64"
      ]
     },
     "execution_count": 94,
     "metadata": {},
     "output_type": "execute_result"
    }
   ],
   "source": [
    "#total missing values\n",
    "a_ds.isnull().sum()"
   ]
  },
  {
   "cell_type": "markdown",
   "id": "0937793d",
   "metadata": {},
   "source": [
    "### Observations:\n",
    "Dataset has no missing/null value."
   ]
  },
  {
   "cell_type": "code",
   "execution_count": 95,
   "id": "22a8d999",
   "metadata": {},
   "outputs": [
    {
     "data": {
      "text/plain": [
       "Date                0\n",
       "AveragePrice        0\n",
       "Total Volume        0\n",
       "4046              242\n",
       "4225               61\n",
       "4770             5497\n",
       "Total Bags         15\n",
       "Small Bags        159\n",
       "Large Bags       2370\n",
       "XLarge Bags     12048\n",
       "type                0\n",
       "year                0\n",
       "region              0\n",
       "dtype: int64"
      ]
     },
     "execution_count": 95,
     "metadata": {},
     "output_type": "execute_result"
    }
   ],
   "source": [
    "#counting total vaues of 0/zero entries in data...\n",
    "a_ds[a_ds==0].count()"
   ]
  },
  {
   "cell_type": "markdown",
   "id": "51ee0c69",
   "metadata": {},
   "source": [
    "### Observation:\n",
    "4046,4225,4770,Total Bags,Small Bags,Large Bags and XLarge Bags feature having entry as zero. we will look into it in later stage."
   ]
  },
  {
   "cell_type": "code",
   "execution_count": 96,
   "id": "30f46d5a",
   "metadata": {},
   "outputs": [],
   "source": [
    "# creating deep copy \n",
    "avocado_ds_work_file = a_ds.copy()"
   ]
  },
  {
   "cell_type": "code",
   "execution_count": 97,
   "id": "9ae443bb",
   "metadata": {},
   "outputs": [
    {
     "name": "stdout",
     "output_type": "stream",
     "text": [
      "{} \n",
      "\n",
      "Percentage of missing data:\n",
      " Date            0.0\n",
      "AveragePrice    0.0\n",
      "Total Volume    0.0\n",
      "4046            0.0\n",
      "4225            0.0\n",
      "4770            0.0\n",
      "Total Bags      0.0\n",
      "Small Bags      0.0\n",
      "Large Bags      0.0\n",
      "XLarge Bags     0.0\n",
      "type            0.0\n",
      "year            0.0\n",
      "region          0.0\n",
      "dtype: float64\n"
     ]
    }
   ],
   "source": [
    "# calling the function\n",
    "missing_val(avocado_ds_work_file)\n",
    "print(\"\\n\")\n",
    "print(\"Percentage of missing data:\\n\",avocado_ds_work_file.isnull().sum()/len(avocado_ds_work_file)*100)"
   ]
  },
  {
   "cell_type": "markdown",
   "id": "938182a3",
   "metadata": {},
   "source": [
    "### we have date column also in dataset and its datatype is objects, lets change into datetime format"
   ]
  },
  {
   "cell_type": "code",
   "execution_count": 98,
   "id": "980e09c7",
   "metadata": {},
   "outputs": [
    {
     "data": {
      "text/plain": [
       "Date            datetime64[ns]\n",
       "AveragePrice           float64\n",
       "Total Volume           float64\n",
       "4046                   float64\n",
       "4225                   float64\n",
       "4770                   float64\n",
       "Total Bags             float64\n",
       "Small Bags             float64\n",
       "Large Bags             float64\n",
       "XLarge Bags            float64\n",
       "type                    object\n",
       "year                     int64\n",
       "region                  object\n",
       "dtype: object"
      ]
     },
     "execution_count": 98,
     "metadata": {},
     "output_type": "execute_result"
    }
   ],
   "source": [
    "\n",
    "avocado_ds_work_file[\"Date\"] = pd.to_datetime(avocado_ds_work_file[\"Date\"])\n",
    "avocado_ds_work_file.dtypes"
   ]
  },
  {
   "cell_type": "code",
   "execution_count": 99,
   "id": "736fd138",
   "metadata": {},
   "outputs": [],
   "source": [
    "# updating original files\n",
    "a_ds = avocado_ds_work_file.copy()"
   ]
  },
  {
   "cell_type": "code",
   "execution_count": 100,
   "id": "fe162b01",
   "metadata": {},
   "outputs": [
    {
     "data": {
      "text/html": [
       "<div>\n",
       "<style scoped>\n",
       "    .dataframe tbody tr th:only-of-type {\n",
       "        vertical-align: middle;\n",
       "    }\n",
       "\n",
       "    .dataframe tbody tr th {\n",
       "        vertical-align: top;\n",
       "    }\n",
       "\n",
       "    .dataframe thead th {\n",
       "        text-align: right;\n",
       "    }\n",
       "</style>\n",
       "<table border=\"1\" class=\"dataframe\">\n",
       "  <thead>\n",
       "    <tr style=\"text-align: right;\">\n",
       "      <th></th>\n",
       "      <th>AveragePrice</th>\n",
       "      <th>Total Volume</th>\n",
       "      <th>4046</th>\n",
       "      <th>4225</th>\n",
       "      <th>4770</th>\n",
       "      <th>Total Bags</th>\n",
       "      <th>Small Bags</th>\n",
       "      <th>Large Bags</th>\n",
       "      <th>XLarge Bags</th>\n",
       "      <th>year</th>\n",
       "    </tr>\n",
       "  </thead>\n",
       "  <tbody>\n",
       "    <tr>\n",
       "      <th>count</th>\n",
       "      <td>18249.00000</td>\n",
       "      <td>1.824900e+04</td>\n",
       "      <td>1.824900e+04</td>\n",
       "      <td>1.824900e+04</td>\n",
       "      <td>1.824900e+04</td>\n",
       "      <td>1.824900e+04</td>\n",
       "      <td>1.824900e+04</td>\n",
       "      <td>1.824900e+04</td>\n",
       "      <td>18249.00000</td>\n",
       "      <td>18249.00000</td>\n",
       "    </tr>\n",
       "    <tr>\n",
       "      <th>mean</th>\n",
       "      <td>1.40598</td>\n",
       "      <td>8.506440e+05</td>\n",
       "      <td>2.930084e+05</td>\n",
       "      <td>2.951546e+05</td>\n",
       "      <td>2.283974e+04</td>\n",
       "      <td>2.396392e+05</td>\n",
       "      <td>1.821947e+05</td>\n",
       "      <td>5.433809e+04</td>\n",
       "      <td>3106.42651</td>\n",
       "      <td>2016.14790</td>\n",
       "    </tr>\n",
       "    <tr>\n",
       "      <th>std</th>\n",
       "      <td>0.40268</td>\n",
       "      <td>3.453545e+06</td>\n",
       "      <td>1.264989e+06</td>\n",
       "      <td>1.204120e+06</td>\n",
       "      <td>1.074641e+05</td>\n",
       "      <td>9.862424e+05</td>\n",
       "      <td>7.461785e+05</td>\n",
       "      <td>2.439660e+05</td>\n",
       "      <td>17692.89465</td>\n",
       "      <td>0.93994</td>\n",
       "    </tr>\n",
       "    <tr>\n",
       "      <th>min</th>\n",
       "      <td>0.44000</td>\n",
       "      <td>8.456000e+01</td>\n",
       "      <td>0.000000e+00</td>\n",
       "      <td>0.000000e+00</td>\n",
       "      <td>0.000000e+00</td>\n",
       "      <td>0.000000e+00</td>\n",
       "      <td>0.000000e+00</td>\n",
       "      <td>0.000000e+00</td>\n",
       "      <td>0.00000</td>\n",
       "      <td>2015.00000</td>\n",
       "    </tr>\n",
       "    <tr>\n",
       "      <th>25%</th>\n",
       "      <td>1.10000</td>\n",
       "      <td>1.083858e+04</td>\n",
       "      <td>8.540700e+02</td>\n",
       "      <td>3.008780e+03</td>\n",
       "      <td>0.000000e+00</td>\n",
       "      <td>5.088640e+03</td>\n",
       "      <td>2.849420e+03</td>\n",
       "      <td>1.274700e+02</td>\n",
       "      <td>0.00000</td>\n",
       "      <td>2015.00000</td>\n",
       "    </tr>\n",
       "    <tr>\n",
       "      <th>50%</th>\n",
       "      <td>1.37000</td>\n",
       "      <td>1.073768e+05</td>\n",
       "      <td>8.645300e+03</td>\n",
       "      <td>2.906102e+04</td>\n",
       "      <td>1.849900e+02</td>\n",
       "      <td>3.974383e+04</td>\n",
       "      <td>2.636282e+04</td>\n",
       "      <td>2.647710e+03</td>\n",
       "      <td>0.00000</td>\n",
       "      <td>2016.00000</td>\n",
       "    </tr>\n",
       "    <tr>\n",
       "      <th>75%</th>\n",
       "      <td>1.66000</td>\n",
       "      <td>4.329623e+05</td>\n",
       "      <td>1.110202e+05</td>\n",
       "      <td>1.502069e+05</td>\n",
       "      <td>6.243420e+03</td>\n",
       "      <td>1.107834e+05</td>\n",
       "      <td>8.333767e+04</td>\n",
       "      <td>2.202925e+04</td>\n",
       "      <td>132.50000</td>\n",
       "      <td>2017.00000</td>\n",
       "    </tr>\n",
       "    <tr>\n",
       "      <th>max</th>\n",
       "      <td>3.25000</td>\n",
       "      <td>6.250565e+07</td>\n",
       "      <td>2.274362e+07</td>\n",
       "      <td>2.047057e+07</td>\n",
       "      <td>2.546439e+06</td>\n",
       "      <td>1.937313e+07</td>\n",
       "      <td>1.338459e+07</td>\n",
       "      <td>5.719097e+06</td>\n",
       "      <td>551693.65000</td>\n",
       "      <td>2018.00000</td>\n",
       "    </tr>\n",
       "  </tbody>\n",
       "</table>\n",
       "</div>"
      ],
      "text/plain": [
       "       AveragePrice  Total Volume          4046          4225          4770  \\\n",
       "count   18249.00000  1.824900e+04  1.824900e+04  1.824900e+04  1.824900e+04   \n",
       "mean        1.40598  8.506440e+05  2.930084e+05  2.951546e+05  2.283974e+04   \n",
       "std         0.40268  3.453545e+06  1.264989e+06  1.204120e+06  1.074641e+05   \n",
       "min         0.44000  8.456000e+01  0.000000e+00  0.000000e+00  0.000000e+00   \n",
       "25%         1.10000  1.083858e+04  8.540700e+02  3.008780e+03  0.000000e+00   \n",
       "50%         1.37000  1.073768e+05  8.645300e+03  2.906102e+04  1.849900e+02   \n",
       "75%         1.66000  4.329623e+05  1.110202e+05  1.502069e+05  6.243420e+03   \n",
       "max         3.25000  6.250565e+07  2.274362e+07  2.047057e+07  2.546439e+06   \n",
       "\n",
       "         Total Bags    Small Bags    Large Bags   XLarge Bags         year  \n",
       "count  1.824900e+04  1.824900e+04  1.824900e+04   18249.00000  18249.00000  \n",
       "mean   2.396392e+05  1.821947e+05  5.433809e+04    3106.42651   2016.14790  \n",
       "std    9.862424e+05  7.461785e+05  2.439660e+05   17692.89465      0.93994  \n",
       "min    0.000000e+00  0.000000e+00  0.000000e+00       0.00000   2015.00000  \n",
       "25%    5.088640e+03  2.849420e+03  1.274700e+02       0.00000   2015.00000  \n",
       "50%    3.974383e+04  2.636282e+04  2.647710e+03       0.00000   2016.00000  \n",
       "75%    1.107834e+05  8.333767e+04  2.202925e+04     132.50000   2017.00000  \n",
       "max    1.937313e+07  1.338459e+07  5.719097e+06  551693.65000   2018.00000  "
      ]
     },
     "execution_count": 100,
     "metadata": {},
     "output_type": "execute_result"
    }
   ],
   "source": [
    "a_ds.describe().round(5)"
   ]
  },
  {
   "cell_type": "markdown",
   "id": "ae82b1d2",
   "metadata": {},
   "source": [
    "### Observation:\n",
    "    By dignosing the data point, i have found that small and large bags are bifurcation of total bags so we can keep only total bags instead of them.we will treat them in coming section"
   ]
  },
  {
   "cell_type": "code",
   "execution_count": 101,
   "id": "11b58c98",
   "metadata": {},
   "outputs": [
    {
     "data": {
      "text/html": [
       "<div>\n",
       "<style scoped>\n",
       "    .dataframe tbody tr th:only-of-type {\n",
       "        vertical-align: middle;\n",
       "    }\n",
       "\n",
       "    .dataframe tbody tr th {\n",
       "        vertical-align: top;\n",
       "    }\n",
       "\n",
       "    .dataframe thead th {\n",
       "        text-align: right;\n",
       "    }\n",
       "</style>\n",
       "<table border=\"1\" class=\"dataframe\">\n",
       "  <thead>\n",
       "    <tr style=\"text-align: right;\">\n",
       "      <th></th>\n",
       "      <th>type</th>\n",
       "      <th>region</th>\n",
       "    </tr>\n",
       "  </thead>\n",
       "  <tbody>\n",
       "    <tr>\n",
       "      <th>count</th>\n",
       "      <td>18249</td>\n",
       "      <td>18249</td>\n",
       "    </tr>\n",
       "    <tr>\n",
       "      <th>unique</th>\n",
       "      <td>2</td>\n",
       "      <td>54</td>\n",
       "    </tr>\n",
       "    <tr>\n",
       "      <th>top</th>\n",
       "      <td>conventional</td>\n",
       "      <td>Albany</td>\n",
       "    </tr>\n",
       "    <tr>\n",
       "      <th>freq</th>\n",
       "      <td>9126</td>\n",
       "      <td>338</td>\n",
       "    </tr>\n",
       "  </tbody>\n",
       "</table>\n",
       "</div>"
      ],
      "text/plain": [
       "                type  region\n",
       "count          18249   18249\n",
       "unique             2      54\n",
       "top     conventional  Albany\n",
       "freq            9126     338"
      ]
     },
     "execution_count": 101,
     "metadata": {},
     "output_type": "execute_result"
    }
   ],
   "source": [
    "a_ds.select_dtypes(include=\"object\").describe()# describing the objects data types"
   ]
  },
  {
   "cell_type": "markdown",
   "id": "9602accf",
   "metadata": {},
   "source": [
    "### Observation:\n",
    "    From this we can understand that all Avocado belongs to one category which is conventional and dataset has maximum data from Albany state\n"
   ]
  },
  {
   "cell_type": "markdown",
   "id": "d2b44a9c",
   "metadata": {},
   "source": [
    "# EDA"
   ]
  },
  {
   "cell_type": "code",
   "execution_count": 102,
   "id": "f467908b",
   "metadata": {},
   "outputs": [
    {
     "data": {
      "image/png": "[encoded data removed]",
      "text/plain": [
       "<Figure size 1080x1080 with 12 Axes>"
      ]
     },
     "metadata": {
      "needs_background": "light"
     },
     "output_type": "display_data"
    }
   ],
   "source": [
    "# checking the distribution of the numeric features\n",
    "a_ds.select_dtypes(exclude=\"object\").hist(figsize= (15,15)); "
   ]
  },
  {
   "cell_type": "markdown",
   "id": "9c6c0659",
   "metadata": {},
   "source": [
    "### Observation:\n",
    "    from total volume to XLage bags' features are right skewed. lets check the skewness of the data and after that we will do some analysis. so for checking the skewness we will take numeric data into another variable but before that we need to change the name of the 3 columsn which are written in number so that we can take them as features"
   ]
  },
  {
   "cell_type": "code",
   "execution_count": 103,
   "id": "48c78747",
   "metadata": {},
   "outputs": [
    {
     "data": {
      "text/html": [
       "<div>\n",
       "<style scoped>\n",
       "    .dataframe tbody tr th:only-of-type {\n",
       "        vertical-align: middle;\n",
       "    }\n",
       "\n",
       "    .dataframe tbody tr th {\n",
       "        vertical-align: top;\n",
       "    }\n",
       "\n",
       "    .dataframe thead th {\n",
       "        text-align: right;\n",
       "    }\n",
       "</style>\n",
       "<table border=\"1\" class=\"dataframe\">\n",
       "  <thead>\n",
       "    <tr style=\"text-align: right;\">\n",
       "      <th></th>\n",
       "      <th>Date</th>\n",
       "      <th>AveragePrice</th>\n",
       "      <th>Total Volume</th>\n",
       "      <th>PLU_4046</th>\n",
       "      <th>PLU_4225</th>\n",
       "      <th>PLU_4770</th>\n",
       "      <th>Total Bags</th>\n",
       "      <th>Small Bags</th>\n",
       "      <th>Large Bags</th>\n",
       "      <th>XLarge Bags</th>\n",
       "      <th>type</th>\n",
       "      <th>year</th>\n",
       "      <th>region</th>\n",
       "    </tr>\n",
       "  </thead>\n",
       "  <tbody>\n",
       "    <tr>\n",
       "      <th>0</th>\n",
       "      <td>2015-12-27</td>\n",
       "      <td>1.33</td>\n",
       "      <td>64236.62</td>\n",
       "      <td>1036.74</td>\n",
       "      <td>54454.85</td>\n",
       "      <td>48.16</td>\n",
       "      <td>8696.87</td>\n",
       "      <td>8603.62</td>\n",
       "      <td>93.25</td>\n",
       "      <td>0.0</td>\n",
       "      <td>conventional</td>\n",
       "      <td>2015</td>\n",
       "      <td>Albany</td>\n",
       "    </tr>\n",
       "    <tr>\n",
       "      <th>1</th>\n",
       "      <td>2015-12-20</td>\n",
       "      <td>1.35</td>\n",
       "      <td>54876.98</td>\n",
       "      <td>674.28</td>\n",
       "      <td>44638.81</td>\n",
       "      <td>58.33</td>\n",
       "      <td>9505.56</td>\n",
       "      <td>9408.07</td>\n",
       "      <td>97.49</td>\n",
       "      <td>0.0</td>\n",
       "      <td>conventional</td>\n",
       "      <td>2015</td>\n",
       "      <td>Albany</td>\n",
       "    </tr>\n",
       "    <tr>\n",
       "      <th>2</th>\n",
       "      <td>2015-12-13</td>\n",
       "      <td>0.93</td>\n",
       "      <td>118220.22</td>\n",
       "      <td>794.70</td>\n",
       "      <td>109149.67</td>\n",
       "      <td>130.50</td>\n",
       "      <td>8145.35</td>\n",
       "      <td>8042.21</td>\n",
       "      <td>103.14</td>\n",
       "      <td>0.0</td>\n",
       "      <td>conventional</td>\n",
       "      <td>2015</td>\n",
       "      <td>Albany</td>\n",
       "    </tr>\n",
       "    <tr>\n",
       "      <th>3</th>\n",
       "      <td>2015-12-06</td>\n",
       "      <td>1.08</td>\n",
       "      <td>78992.15</td>\n",
       "      <td>1132.00</td>\n",
       "      <td>71976.41</td>\n",
       "      <td>72.58</td>\n",
       "      <td>5811.16</td>\n",
       "      <td>5677.40</td>\n",
       "      <td>133.76</td>\n",
       "      <td>0.0</td>\n",
       "      <td>conventional</td>\n",
       "      <td>2015</td>\n",
       "      <td>Albany</td>\n",
       "    </tr>\n",
       "    <tr>\n",
       "      <th>4</th>\n",
       "      <td>2015-11-29</td>\n",
       "      <td>1.28</td>\n",
       "      <td>51039.60</td>\n",
       "      <td>941.48</td>\n",
       "      <td>43838.39</td>\n",
       "      <td>75.78</td>\n",
       "      <td>6183.95</td>\n",
       "      <td>5986.26</td>\n",
       "      <td>197.69</td>\n",
       "      <td>0.0</td>\n",
       "      <td>conventional</td>\n",
       "      <td>2015</td>\n",
       "      <td>Albany</td>\n",
       "    </tr>\n",
       "  </tbody>\n",
       "</table>\n",
       "</div>"
      ],
      "text/plain": [
       "        Date  AveragePrice  Total Volume  PLU_4046   PLU_4225  PLU_4770  \\\n",
       "0 2015-12-27          1.33      64236.62   1036.74   54454.85     48.16   \n",
       "1 2015-12-20          1.35      54876.98    674.28   44638.81     58.33   \n",
       "2 2015-12-13          0.93     118220.22    794.70  109149.67    130.50   \n",
       "3 2015-12-06          1.08      78992.15   1132.00   71976.41     72.58   \n",
       "4 2015-11-29          1.28      51039.60    941.48   43838.39     75.78   \n",
       "\n",
       "   Total Bags  Small Bags  Large Bags  XLarge Bags          type  year  region  \n",
       "0     8696.87     8603.62       93.25          0.0  conventional  2015  Albany  \n",
       "1     9505.56     9408.07       97.49          0.0  conventional  2015  Albany  \n",
       "2     8145.35     8042.21      103.14          0.0  conventional  2015  Albany  \n",
       "3     5811.16     5677.40      133.76          0.0  conventional  2015  Albany  \n",
       "4     6183.95     5986.26      197.69          0.0  conventional  2015  Albany  "
      ]
     },
     "execution_count": 103,
     "metadata": {},
     "output_type": "execute_result"
    }
   ],
   "source": [
    "a_ds.rename(columns={\"4046\":\"PLU_4046\",\"4225\":\"PLU_4225\",\"4770\":\"PLU_4770\"},inplace=True)\n",
    "a_ds.head()"
   ]
  },
  {
   "cell_type": "code",
   "execution_count": 104,
   "id": "0c676748",
   "metadata": {},
   "outputs": [],
   "source": [
    "# saving numeric data into a variable for nmeric operation\n",
    "num_data = a_ds[[\"Total Volume\",\t\"PLU_4046\"\t,\"PLU_4225\",\t\"PLU_4770\",\"Total Bags\",\"Small Bags\",\"Large Bags\",\"XLarge Bags\"]]"
   ]
  },
  {
   "cell_type": "code",
   "execution_count": 105,
   "id": "820dfb0f",
   "metadata": {},
   "outputs": [
    {
     "data": {
      "text/plain": [
       "Total Volume     9.007687\n",
       "PLU_4046         8.648220\n",
       "PLU_4225         8.942466\n",
       "PLU_4770        10.159396\n",
       "Total Bags       9.756072\n",
       "Small Bags       9.540660\n",
       "Large Bags       9.796455\n",
       "XLarge Bags     13.139751\n",
       "dtype: float64"
      ]
     },
     "execution_count": 105,
     "metadata": {},
     "output_type": "execute_result"
    }
   ],
   "source": [
    "# checking the skewness\n",
    "num_data.skew()"
   ]
  },
  {
   "cell_type": "markdown",
   "id": "57c62980",
   "metadata": {},
   "source": [
    "### Observation:\n",
    "all the columns are skewed one as we have seen in the histogram. we will treat them after EDA.\n",
    "\n",
    "i am creating a deep copy of the data and adding some more feature in the dataset for the analysis purpose from datetime columns.\n",
    "\n",
    "\n",
    "i have observed that date format is not same from top to tail, so changing it in a proper manner. DD-MM-YYYY"
   ]
  },
  {
   "cell_type": "code",
   "execution_count": 106,
   "id": "5ed80c56",
   "metadata": {},
   "outputs": [],
   "source": [
    "# creating a copy for further analysis\n",
    "avocado_ds_analysis_data = a_ds.copy() "
   ]
  },
  {
   "cell_type": "code",
   "execution_count": 107,
   "id": "aa5fb702",
   "metadata": {},
   "outputs": [],
   "source": [
    "avocado_ds_analysis_data[\"Date\"] = pd.to_datetime(avocado_ds_analysis_data[\"Date\"],format = \"%d/%m/%Y\") \n"
   ]
  },
  {
   "cell_type": "code",
   "execution_count": 108,
   "id": "f01a4682",
   "metadata": {},
   "outputs": [
    {
     "data": {
      "text/plain": [
       "Date            datetime64[ns]\n",
       "AveragePrice           float64\n",
       "Total Volume           float64\n",
       "PLU_4046               float64\n",
       "PLU_4225               float64\n",
       "PLU_4770               float64\n",
       "Total Bags             float64\n",
       "Small Bags             float64\n",
       "Large Bags             float64\n",
       "XLarge Bags            float64\n",
       "type                    object\n",
       "year                     int64\n",
       "region                  object\n",
       "dtype: object"
      ]
     },
     "execution_count": 108,
     "metadata": {},
     "output_type": "execute_result"
    }
   ],
   "source": [
    "avocado_ds_analysis_data.dtypes\n"
   ]
  },
  {
   "cell_type": "markdown",
   "id": "3eadffa5",
   "metadata": {},
   "source": [
    "Date format has been changed for entire column and it has seme for all observation\n",
    "\n"
   ]
  },
  {
   "cell_type": "code",
   "execution_count": 109,
   "id": "6608b1f0",
   "metadata": {},
   "outputs": [],
   "source": [
    "avocado_ds_analysis_data[\"Day\"] =  avocado_ds_analysis_data[\"Date\"].dt.day\n",
    "avocado_ds_analysis_data[\"year\"] =  avocado_ds_analysis_data[\"Date\"].dt.year\n",
    "avocado_ds_analysis_data[\"Month\"] =  avocado_ds_analysis_data[\"Date\"].dt.month\n",
    "avocado_ds_analysis_data[\"week\"] =  avocado_ds_analysis_data[\"Date\"].dt.week"
   ]
  },
  {
   "cell_type": "code",
   "execution_count": 110,
   "id": "ca02a318",
   "metadata": {},
   "outputs": [
    {
     "data": {
      "text/html": [
       "<div>\n",
       "<style scoped>\n",
       "    .dataframe tbody tr th:only-of-type {\n",
       "        vertical-align: middle;\n",
       "    }\n",
       "\n",
       "    .dataframe tbody tr th {\n",
       "        vertical-align: top;\n",
       "    }\n",
       "\n",
       "    .dataframe thead th {\n",
       "        text-align: right;\n",
       "    }\n",
       "</style>\n",
       "<table border=\"1\" class=\"dataframe\">\n",
       "  <thead>\n",
       "    <tr style=\"text-align: right;\">\n",
       "      <th></th>\n",
       "      <th>Date</th>\n",
       "      <th>AveragePrice</th>\n",
       "      <th>Total Volume</th>\n",
       "      <th>PLU_4046</th>\n",
       "      <th>PLU_4225</th>\n",
       "      <th>PLU_4770</th>\n",
       "      <th>Total Bags</th>\n",
       "      <th>Small Bags</th>\n",
       "      <th>Large Bags</th>\n",
       "      <th>XLarge Bags</th>\n",
       "      <th>type</th>\n",
       "      <th>year</th>\n",
       "      <th>region</th>\n",
       "      <th>Day</th>\n",
       "      <th>Month</th>\n",
       "      <th>week</th>\n",
       "    </tr>\n",
       "  </thead>\n",
       "  <tbody>\n",
       "    <tr>\n",
       "      <th>0</th>\n",
       "      <td>2015-12-27</td>\n",
       "      <td>1.33</td>\n",
       "      <td>64236.62</td>\n",
       "      <td>1036.74</td>\n",
       "      <td>54454.85</td>\n",
       "      <td>48.16</td>\n",
       "      <td>8696.87</td>\n",
       "      <td>8603.62</td>\n",
       "      <td>93.25</td>\n",
       "      <td>0.0</td>\n",
       "      <td>conventional</td>\n",
       "      <td>2015</td>\n",
       "      <td>Albany</td>\n",
       "      <td>27</td>\n",
       "      <td>12</td>\n",
       "      <td>52</td>\n",
       "    </tr>\n",
       "    <tr>\n",
       "      <th>1</th>\n",
       "      <td>2015-12-20</td>\n",
       "      <td>1.35</td>\n",
       "      <td>54876.98</td>\n",
       "      <td>674.28</td>\n",
       "      <td>44638.81</td>\n",
       "      <td>58.33</td>\n",
       "      <td>9505.56</td>\n",
       "      <td>9408.07</td>\n",
       "      <td>97.49</td>\n",
       "      <td>0.0</td>\n",
       "      <td>conventional</td>\n",
       "      <td>2015</td>\n",
       "      <td>Albany</td>\n",
       "      <td>20</td>\n",
       "      <td>12</td>\n",
       "      <td>51</td>\n",
       "    </tr>\n",
       "    <tr>\n",
       "      <th>2</th>\n",
       "      <td>2015-12-13</td>\n",
       "      <td>0.93</td>\n",
       "      <td>118220.22</td>\n",
       "      <td>794.70</td>\n",
       "      <td>109149.67</td>\n",
       "      <td>130.50</td>\n",
       "      <td>8145.35</td>\n",
       "      <td>8042.21</td>\n",
       "      <td>103.14</td>\n",
       "      <td>0.0</td>\n",
       "      <td>conventional</td>\n",
       "      <td>2015</td>\n",
       "      <td>Albany</td>\n",
       "      <td>13</td>\n",
       "      <td>12</td>\n",
       "      <td>50</td>\n",
       "    </tr>\n",
       "    <tr>\n",
       "      <th>3</th>\n",
       "      <td>2015-12-06</td>\n",
       "      <td>1.08</td>\n",
       "      <td>78992.15</td>\n",
       "      <td>1132.00</td>\n",
       "      <td>71976.41</td>\n",
       "      <td>72.58</td>\n",
       "      <td>5811.16</td>\n",
       "      <td>5677.40</td>\n",
       "      <td>133.76</td>\n",
       "      <td>0.0</td>\n",
       "      <td>conventional</td>\n",
       "      <td>2015</td>\n",
       "      <td>Albany</td>\n",
       "      <td>6</td>\n",
       "      <td>12</td>\n",
       "      <td>49</td>\n",
       "    </tr>\n",
       "    <tr>\n",
       "      <th>4</th>\n",
       "      <td>2015-11-29</td>\n",
       "      <td>1.28</td>\n",
       "      <td>51039.60</td>\n",
       "      <td>941.48</td>\n",
       "      <td>43838.39</td>\n",
       "      <td>75.78</td>\n",
       "      <td>6183.95</td>\n",
       "      <td>5986.26</td>\n",
       "      <td>197.69</td>\n",
       "      <td>0.0</td>\n",
       "      <td>conventional</td>\n",
       "      <td>2015</td>\n",
       "      <td>Albany</td>\n",
       "      <td>29</td>\n",
       "      <td>11</td>\n",
       "      <td>48</td>\n",
       "    </tr>\n",
       "  </tbody>\n",
       "</table>\n",
       "</div>"
      ],
      "text/plain": [
       "        Date  AveragePrice  Total Volume  PLU_4046   PLU_4225  PLU_4770  \\\n",
       "0 2015-12-27          1.33      64236.62   1036.74   54454.85     48.16   \n",
       "1 2015-12-20          1.35      54876.98    674.28   44638.81     58.33   \n",
       "2 2015-12-13          0.93     118220.22    794.70  109149.67    130.50   \n",
       "3 2015-12-06          1.08      78992.15   1132.00   71976.41     72.58   \n",
       "4 2015-11-29          1.28      51039.60    941.48   43838.39     75.78   \n",
       "\n",
       "   Total Bags  Small Bags  Large Bags  XLarge Bags          type  year  \\\n",
       "0     8696.87     8603.62       93.25          0.0  conventional  2015   \n",
       "1     9505.56     9408.07       97.49          0.0  conventional  2015   \n",
       "2     8145.35     8042.21      103.14          0.0  conventional  2015   \n",
       "3     5811.16     5677.40      133.76          0.0  conventional  2015   \n",
       "4     6183.95     5986.26      197.69          0.0  conventional  2015   \n",
       "\n",
       "   region  Day  Month  week  \n",
       "0  Albany   27     12    52  \n",
       "1  Albany   20     12    51  \n",
       "2  Albany   13     12    50  \n",
       "3  Albany    6     12    49  \n",
       "4  Albany   29     11    48  "
      ]
     },
     "execution_count": 110,
     "metadata": {},
     "output_type": "execute_result"
    }
   ],
   "source": [
    "avocado_ds_analysis_data.head()\n"
   ]
  },
  {
   "cell_type": "code",
   "execution_count": 111,
   "id": "be0d5988",
   "metadata": {},
   "outputs": [
    {
     "data": {
      "image/png": "[encoded data removed]",
      "text/plain": [
       "<Figure size 1080x576 with 2 Axes>"
      ]
     },
     "metadata": {
      "needs_background": "light"
     },
     "output_type": "display_data"
    }
   ],
   "source": [
    "plt.figure(figsize=(15,8))\n",
    "plt.subplot(221)\n",
    "sns.barplot(x = \"year\", y = \"Total Volume\", data = avocado_ds_analysis_data)\n",
    "plt.title(\"Year wise avocado sale\");\n",
    "\n",
    "plt.subplot(222)\n",
    "sns.barplot(x = \"year\", y = \"AveragePrice\", data = avocado_ds_analysis_data)\n",
    "plt.title(\"Year wise Aavocado price \");"
   ]
  },
  {
   "cell_type": "markdown",
   "id": "f6b7cd7d",
   "metadata": {},
   "source": [
    "Avocado number of sold in the year of 2018 is more as compared to ramining year but when we compare the year wise avocado price, 2017 year wise price average is high for as compared to remaining year and it can be"
   ]
  },
  {
   "cell_type": "code",
   "execution_count": 112,
   "id": "5a57eebe",
   "metadata": {},
   "outputs": [
    {
     "data": {
      "image/png": "[encoded data removed]",
      "text/plain": [
       "<Figure size 1440x720 with 2 Axes>"
      ]
     },
     "metadata": {
      "needs_background": "light"
     },
     "output_type": "display_data"
    }
   ],
   "source": [
    "plt.figure(figsize=(20,10))\n",
    "plt.subplot(211)\n",
    "sns.barplot(x = \"Day\", y = \"Total Volume\", data = avocado_ds_analysis_data,hue=\"year\")\n",
    "plt.title(\"Year wise day wise total avocado sold\");\n",
    "\n",
    "plt.subplot(212)\n",
    "sns.barplot(x = \"Day\", y = \"AveragePrice\", data = avocado_ds_analysis_data,hue=\"year\")\n",
    "plt.title(\"Year wise day wise Avr price\");"
   ]
  },
  {
   "cell_type": "markdown",
   "id": "b60f3884",
   "metadata": {},
   "source": [
    "out of 31 days, 13 days ,total sold count was higher in 2017 .\n",
    "\n",
    "in 2017 on 20th and 27th , the avg price were high and in 2016 on 30th ,the avg price was high"
   ]
  },
  {
   "cell_type": "code",
   "execution_count": 113,
   "id": "8a35a879",
   "metadata": {},
   "outputs": [
    {
     "data": {
      "image/png": "[encoded data removed]",
      "text/plain": [
       "<Figure size 1440x720 with 2 Axes>"
      ]
     },
     "metadata": {
      "needs_background": "light"
     },
     "output_type": "display_data"
    }
   ],
   "source": [
    "plt.figure(figsize=(20,10))\n",
    "plt.subplot(211)\n",
    "sns.barplot(x = \"Month\", y = \"Total Volume\", data = avocado_ds_analysis_data,hue=\"year\")\n",
    "plt.title(\"Month wise total avocado sold\")\n",
    "\n",
    "plt.subplot(212)\n",
    "sns.barplot(x = \"Month\", y = \"AveragePrice\", data = avocado_ds_analysis_data,hue=\"year\")\n",
    "plt.title(\"Month wise avg price\");"
   ]
  },
  {
   "cell_type": "code",
   "execution_count": 114,
   "id": "b72420a0",
   "metadata": {},
   "outputs": [
    {
     "data": {
      "text/plain": [
       "Text(0.5, 1.0, 'week wise avg price')"
      ]
     },
     "execution_count": 114,
     "metadata": {},
     "output_type": "execute_result"
    },
    {
     "data": {
      "image/png": "[encoded data removed]",
      "text/plain": [
       "<Figure size 1440x720 with 2 Axes>"
      ]
     },
     "metadata": {
      "needs_background": "light"
     },
     "output_type": "display_data"
    }
   ],
   "source": [
    "plt.figure(figsize=(20,10))\n",
    "plt.subplot(211)\n",
    "sns.barplot(x = \"week\", y = \"Total Volume\", data = avocado_ds_analysis_data,hue=\"year\")\n",
    "plt.title(\"year wise week wise total avocado sold\")\n",
    "\n",
    "plt.subplot(212)\n",
    "sns.barplot(x = \"week\", y = \"AveragePrice\", data = avocado_ds_analysis_data,hue=\"year\")\n",
    "plt.title(\"week wise avg price\")"
   ]
  },
  {
   "cell_type": "code",
   "execution_count": 115,
   "id": "e7bde068",
   "metadata": {},
   "outputs": [
    {
     "data": {
      "text/html": [
       "<div>\n",
       "<style scoped>\n",
       "    .dataframe tbody tr th:only-of-type {\n",
       "        vertical-align: middle;\n",
       "    }\n",
       "\n",
       "    .dataframe tbody tr th {\n",
       "        vertical-align: top;\n",
       "    }\n",
       "\n",
       "    .dataframe thead th {\n",
       "        text-align: right;\n",
       "    }\n",
       "</style>\n",
       "<table border=\"1\" class=\"dataframe\">\n",
       "  <thead>\n",
       "    <tr style=\"text-align: right;\">\n",
       "      <th></th>\n",
       "      <th>Total Volume</th>\n",
       "      <th>AveragePrice</th>\n",
       "    </tr>\n",
       "    <tr>\n",
       "      <th>region</th>\n",
       "      <th></th>\n",
       "      <th></th>\n",
       "    </tr>\n",
       "  </thead>\n",
       "  <tbody>\n",
       "    <tr>\n",
       "      <th>TotalUS</th>\n",
       "      <td>1.735130e+07</td>\n",
       "      <td>1.319024</td>\n",
       "    </tr>\n",
       "    <tr>\n",
       "      <th>West</th>\n",
       "      <td>3.215323e+06</td>\n",
       "      <td>1.272219</td>\n",
       "    </tr>\n",
       "    <tr>\n",
       "      <th>California</th>\n",
       "      <td>3.044324e+06</td>\n",
       "      <td>1.395325</td>\n",
       "    </tr>\n",
       "    <tr>\n",
       "      <th>SouthCentral</th>\n",
       "      <td>2.991952e+06</td>\n",
       "      <td>1.101243</td>\n",
       "    </tr>\n",
       "    <tr>\n",
       "      <th>Northeast</th>\n",
       "      <td>2.110299e+06</td>\n",
       "      <td>1.601923</td>\n",
       "    </tr>\n",
       "    <tr>\n",
       "      <th>Southeast</th>\n",
       "      <td>1.820232e+06</td>\n",
       "      <td>1.398018</td>\n",
       "    </tr>\n",
       "    <tr>\n",
       "      <th>GreatLakes</th>\n",
       "      <td>1.744505e+06</td>\n",
       "      <td>1.338550</td>\n",
       "    </tr>\n",
       "    <tr>\n",
       "      <th>Midsouth</th>\n",
       "      <td>1.503992e+06</td>\n",
       "      <td>1.404763</td>\n",
       "    </tr>\n",
       "    <tr>\n",
       "      <th>LosAngeles</th>\n",
       "      <td>1.502653e+06</td>\n",
       "      <td>1.216006</td>\n",
       "    </tr>\n",
       "    <tr>\n",
       "      <th>Plains</th>\n",
       "      <td>9.206761e+05</td>\n",
       "      <td>1.436509</td>\n",
       "    </tr>\n",
       "    <tr>\n",
       "      <th>NewYork</th>\n",
       "      <td>7.122311e+05</td>\n",
       "      <td>1.727574</td>\n",
       "    </tr>\n",
       "    <tr>\n",
       "      <th>DallasFtWorth</th>\n",
       "      <td>6.166251e+05</td>\n",
       "      <td>1.085592</td>\n",
       "    </tr>\n",
       "    <tr>\n",
       "      <th>Houston</th>\n",
       "      <td>6.010884e+05</td>\n",
       "      <td>1.047929</td>\n",
       "    </tr>\n",
       "    <tr>\n",
       "      <th>PhoenixTucson</th>\n",
       "      <td>5.788264e+05</td>\n",
       "      <td>1.224438</td>\n",
       "    </tr>\n",
       "    <tr>\n",
       "      <th>WestTexNewMexico</th>\n",
       "      <td>4.314085e+05</td>\n",
       "      <td>1.261701</td>\n",
       "    </tr>\n",
       "    <tr>\n",
       "      <th>Denver</th>\n",
       "      <td>4.109542e+05</td>\n",
       "      <td>1.218580</td>\n",
       "    </tr>\n",
       "    <tr>\n",
       "      <th>SanFrancisco</th>\n",
       "      <td>4.018645e+05</td>\n",
       "      <td>1.804201</td>\n",
       "    </tr>\n",
       "    <tr>\n",
       "      <th>BaltimoreWashington</th>\n",
       "      <td>3.985619e+05</td>\n",
       "      <td>1.534231</td>\n",
       "    </tr>\n",
       "    <tr>\n",
       "      <th>Chicago</th>\n",
       "      <td>3.955690e+05</td>\n",
       "      <td>1.556775</td>\n",
       "    </tr>\n",
       "    <tr>\n",
       "      <th>Portland</th>\n",
       "      <td>3.270775e+05</td>\n",
       "      <td>1.317722</td>\n",
       "    </tr>\n",
       "    <tr>\n",
       "      <th>Seattle</th>\n",
       "      <td>3.231189e+05</td>\n",
       "      <td>1.442574</td>\n",
       "    </tr>\n",
       "    <tr>\n",
       "      <th>MiamiFtLauderdale</th>\n",
       "      <td>2.889740e+05</td>\n",
       "      <td>1.428491</td>\n",
       "    </tr>\n",
       "    <tr>\n",
       "      <th>Boston</th>\n",
       "      <td>2.877929e+05</td>\n",
       "      <td>1.530888</td>\n",
       "    </tr>\n",
       "    <tr>\n",
       "      <th>SanDiego</th>\n",
       "      <td>2.656566e+05</td>\n",
       "      <td>1.398166</td>\n",
       "    </tr>\n",
       "    <tr>\n",
       "      <th>Atlanta</th>\n",
       "      <td>2.621453e+05</td>\n",
       "      <td>1.337959</td>\n",
       "    </tr>\n",
       "    <tr>\n",
       "      <th>Sacramento</th>\n",
       "      <td>2.223779e+05</td>\n",
       "      <td>1.621568</td>\n",
       "    </tr>\n",
       "    <tr>\n",
       "      <th>Philadelphia</th>\n",
       "      <td>2.125408e+05</td>\n",
       "      <td>1.632130</td>\n",
       "    </tr>\n",
       "    <tr>\n",
       "      <th>NorthernNewEngland</th>\n",
       "      <td>2.116358e+05</td>\n",
       "      <td>1.477396</td>\n",
       "    </tr>\n",
       "    <tr>\n",
       "      <th>Tampa</th>\n",
       "      <td>1.952797e+05</td>\n",
       "      <td>1.408846</td>\n",
       "    </tr>\n",
       "    <tr>\n",
       "      <th>Detroit</th>\n",
       "      <td>1.876403e+05</td>\n",
       "      <td>1.276095</td>\n",
       "    </tr>\n",
       "    <tr>\n",
       "      <th>SouthCarolina</th>\n",
       "      <td>1.797449e+05</td>\n",
       "      <td>1.403284</td>\n",
       "    </tr>\n",
       "    <tr>\n",
       "      <th>Orlando</th>\n",
       "      <td>1.735524e+05</td>\n",
       "      <td>1.506213</td>\n",
       "    </tr>\n",
       "    <tr>\n",
       "      <th>LasVegas</th>\n",
       "      <td>1.608784e+05</td>\n",
       "      <td>1.380917</td>\n",
       "    </tr>\n",
       "    <tr>\n",
       "      <th>HartfordSpringfield</th>\n",
       "      <td>1.499128e+05</td>\n",
       "      <td>1.818639</td>\n",
       "    </tr>\n",
       "    <tr>\n",
       "      <th>RaleighGreensboro</th>\n",
       "      <td>1.426116e+05</td>\n",
       "      <td>1.555118</td>\n",
       "    </tr>\n",
       "    <tr>\n",
       "      <th>NewOrleansMobile</th>\n",
       "      <td>1.351927e+05</td>\n",
       "      <td>1.304793</td>\n",
       "    </tr>\n",
       "    <tr>\n",
       "      <th>CincinnatiDayton</th>\n",
       "      <td>1.317219e+05</td>\n",
       "      <td>1.209201</td>\n",
       "    </tr>\n",
       "    <tr>\n",
       "      <th>RichmondNorfolk</th>\n",
       "      <td>1.249433e+05</td>\n",
       "      <td>1.291331</td>\n",
       "    </tr>\n",
       "    <tr>\n",
       "      <th>HarrisburgScranton</th>\n",
       "      <td>1.236948e+05</td>\n",
       "      <td>1.513284</td>\n",
       "    </tr>\n",
       "    <tr>\n",
       "      <th>Nashville</th>\n",
       "      <td>1.053612e+05</td>\n",
       "      <td>1.212101</td>\n",
       "    </tr>\n",
       "    <tr>\n",
       "      <th>Charlotte</th>\n",
       "      <td>1.051939e+05</td>\n",
       "      <td>1.606036</td>\n",
       "    </tr>\n",
       "    <tr>\n",
       "      <th>StLouis</th>\n",
       "      <td>9.489004e+04</td>\n",
       "      <td>1.430621</td>\n",
       "    </tr>\n",
       "    <tr>\n",
       "      <th>Indianapolis</th>\n",
       "      <td>8.953666e+04</td>\n",
       "      <td>1.313994</td>\n",
       "    </tr>\n",
       "    <tr>\n",
       "      <th>GrandRapids</th>\n",
       "      <td>8.938383e+04</td>\n",
       "      <td>1.505000</td>\n",
       "    </tr>\n",
       "    <tr>\n",
       "      <th>Columbus</th>\n",
       "      <td>8.873776e+04</td>\n",
       "      <td>1.252781</td>\n",
       "    </tr>\n",
       "    <tr>\n",
       "      <th>Jacksonville</th>\n",
       "      <td>8.517753e+04</td>\n",
       "      <td>1.510947</td>\n",
       "    </tr>\n",
       "    <tr>\n",
       "      <th>Roanoke</th>\n",
       "      <td>7.408879e+04</td>\n",
       "      <td>1.247929</td>\n",
       "    </tr>\n",
       "    <tr>\n",
       "      <th>BuffaloRochester</th>\n",
       "      <td>6.793630e+04</td>\n",
       "      <td>1.516834</td>\n",
       "    </tr>\n",
       "    <tr>\n",
       "      <th>Pittsburgh</th>\n",
       "      <td>5.564008e+04</td>\n",
       "      <td>1.364320</td>\n",
       "    </tr>\n",
       "    <tr>\n",
       "      <th>Louisville</th>\n",
       "      <td>4.762427e+04</td>\n",
       "      <td>1.286686</td>\n",
       "    </tr>\n",
       "    <tr>\n",
       "      <th>Albany</th>\n",
       "      <td>4.753787e+04</td>\n",
       "      <td>1.561036</td>\n",
       "    </tr>\n",
       "    <tr>\n",
       "      <th>Spokane</th>\n",
       "      <td>4.605111e+04</td>\n",
       "      <td>1.445592</td>\n",
       "    </tr>\n",
       "    <tr>\n",
       "      <th>Boise</th>\n",
       "      <td>4.264257e+04</td>\n",
       "      <td>1.348136</td>\n",
       "    </tr>\n",
       "    <tr>\n",
       "      <th>Syracuse</th>\n",
       "      <td>3.237476e+04</td>\n",
       "      <td>1.520325</td>\n",
       "    </tr>\n",
       "  </tbody>\n",
       "</table>\n",
       "</div>"
      ],
      "text/plain": [
       "                     Total Volume  AveragePrice\n",
       "region                                         \n",
       "TotalUS              1.735130e+07      1.319024\n",
       "West                 3.215323e+06      1.272219\n",
       "California           3.044324e+06      1.395325\n",
       "SouthCentral         2.991952e+06      1.101243\n",
       "Northeast            2.110299e+06      1.601923\n",
       "Southeast            1.820232e+06      1.398018\n",
       "GreatLakes           1.744505e+06      1.338550\n",
       "Midsouth             1.503992e+06      1.404763\n",
       "LosAngeles           1.502653e+06      1.216006\n",
       "Plains               9.206761e+05      1.436509\n",
       "NewYork              7.122311e+05      1.727574\n",
       "DallasFtWorth        6.166251e+05      1.085592\n",
       "Houston              6.010884e+05      1.047929\n",
       "PhoenixTucson        5.788264e+05      1.224438\n",
       "WestTexNewMexico     4.314085e+05      1.261701\n",
       "Denver               4.109542e+05      1.218580\n",
       "SanFrancisco         4.018645e+05      1.804201\n",
       "BaltimoreWashington  3.985619e+05      1.534231\n",
       "Chicago              3.955690e+05      1.556775\n",
       "Portland             3.270775e+05      1.317722\n",
       "Seattle              3.231189e+05      1.442574\n",
       "MiamiFtLauderdale    2.889740e+05      1.428491\n",
       "Boston               2.877929e+05      1.530888\n",
       "SanDiego             2.656566e+05      1.398166\n",
       "Atlanta              2.621453e+05      1.337959\n",
       "Sacramento           2.223779e+05      1.621568\n",
       "Philadelphia         2.125408e+05      1.632130\n",
       "NorthernNewEngland   2.116358e+05      1.477396\n",
       "Tampa                1.952797e+05      1.408846\n",
       "Detroit              1.876403e+05      1.276095\n",
       "SouthCarolina        1.797449e+05      1.403284\n",
       "Orlando              1.735524e+05      1.506213\n",
       "LasVegas             1.608784e+05      1.380917\n",
       "HartfordSpringfield  1.499128e+05      1.818639\n",
       "RaleighGreensboro    1.426116e+05      1.555118\n",
       "NewOrleansMobile     1.351927e+05      1.304793\n",
       "CincinnatiDayton     1.317219e+05      1.209201\n",
       "RichmondNorfolk      1.249433e+05      1.291331\n",
       "HarrisburgScranton   1.236948e+05      1.513284\n",
       "Nashville            1.053612e+05      1.212101\n",
       "Charlotte            1.051939e+05      1.606036\n",
       "StLouis              9.489004e+04      1.430621\n",
       "Indianapolis         8.953666e+04      1.313994\n",
       "GrandRapids          8.938383e+04      1.505000\n",
       "Columbus             8.873776e+04      1.252781\n",
       "Jacksonville         8.517753e+04      1.510947\n",
       "Roanoke              7.408879e+04      1.247929\n",
       "BuffaloRochester     6.793630e+04      1.516834\n",
       "Pittsburgh           5.564008e+04      1.364320\n",
       "Louisville           4.762427e+04      1.286686\n",
       "Albany               4.753787e+04      1.561036\n",
       "Spokane              4.605111e+04      1.445592\n",
       "Boise                4.264257e+04      1.348136\n",
       "Syracuse             3.237476e+04      1.520325"
      ]
     },
     "execution_count": 115,
     "metadata": {},
     "output_type": "execute_result"
    }
   ],
   "source": [
    "a_ds.groupby(\"region\")[[\"Total Volume\",\"AveragePrice\"]].mean().sort_values(by =\"Total Volume\" ,ascending = False)\n"
   ]
  },
  {
   "cell_type": "markdown",
   "id": "528319e3",
   "metadata": {},
   "source": [
    "Top 5 region where it has consumed a lot and those are west,California,southcentral,northeast and southeast.\n"
   ]
  },
  {
   "cell_type": "markdown",
   "id": "7ccc2596",
   "metadata": {},
   "source": [
    "\n",
    "let's check the outlier in the dataset but before do that we will delete some columns whcih just an extent of one column and share the similar observation\n",
    "Small and large bag are the extension of the total bag thus we are deleteing it.type column has only one value that avocado is conventional type so we can delete it."
   ]
  },
  {
   "cell_type": "code",
   "execution_count": 116,
   "id": "1683064b",
   "metadata": {},
   "outputs": [],
   "source": [
    "a_ds.drop(columns=[\"Small Bags\",\"Large Bags\"],axis = 1, inplace = True)\n"
   ]
  },
  {
   "cell_type": "code",
   "execution_count": 117,
   "id": "2e9f810a",
   "metadata": {},
   "outputs": [
    {
     "data": {
      "image/png": "[encoded data removed]",
      "text/plain": [
       "<Figure size 1080x720 with 9 Axes>"
      ]
     },
     "metadata": {
      "needs_background": "light"
     },
     "output_type": "display_data"
    }
   ],
   "source": [
    "num_data = avocado_ds_analysis_data[[\"Total Volume\",\"PLU_4046\"\t,\"PLU_4225\",\t\"PLU_4770\",\"Total Bags\",\"XLarge Bags\"]]\n",
    "\n",
    "num_data.plot(kind = \"box\", subplots = True, layout=(3,3), figsize = (15,10));"
   ]
  },
  {
   "cell_type": "markdown",
   "id": "e317bc59",
   "metadata": {},
   "source": [
    "### Observation:\n",
    "All numeric columns are full with outlier let treat them but before doing that we will encode cateorical variables.\n"
   ]
  },
  {
   "cell_type": "markdown",
   "id": "313f132d",
   "metadata": {},
   "source": [
    "# Label Encoding\n"
   ]
  },
  {
   "cell_type": "code",
   "execution_count": 118,
   "id": "6677dc02",
   "metadata": {},
   "outputs": [],
   "source": [
    "from sklearn.preprocessing import LabelEncoder\n",
    "from scipy.stats import zscore\n",
    "\n",
    "lb = LabelEncoder()\n",
    "lb.fit(a_ds[\"region\"])\n",
    "\n",
    "a_ds[\"region\"] = lb.transform(a_ds[\"region\"])"
   ]
  },
  {
   "cell_type": "code",
   "execution_count": 119,
   "id": "002f0e2b",
   "metadata": {},
   "outputs": [
    {
     "data": {
      "text/html": [
       "<div>\n",
       "<style scoped>\n",
       "    .dataframe tbody tr th:only-of-type {\n",
       "        vertical-align: middle;\n",
       "    }\n",
       "\n",
       "    .dataframe tbody tr th {\n",
       "        vertical-align: top;\n",
       "    }\n",
       "\n",
       "    .dataframe thead th {\n",
       "        text-align: right;\n",
       "    }\n",
       "</style>\n",
       "<table border=\"1\" class=\"dataframe\">\n",
       "  <thead>\n",
       "    <tr style=\"text-align: right;\">\n",
       "      <th></th>\n",
       "      <th>Date</th>\n",
       "      <th>AveragePrice</th>\n",
       "      <th>Total Volume</th>\n",
       "      <th>PLU_4046</th>\n",
       "      <th>PLU_4225</th>\n",
       "      <th>PLU_4770</th>\n",
       "      <th>Total Bags</th>\n",
       "      <th>XLarge Bags</th>\n",
       "      <th>type</th>\n",
       "      <th>year</th>\n",
       "      <th>region</th>\n",
       "    </tr>\n",
       "  </thead>\n",
       "  <tbody>\n",
       "    <tr>\n",
       "      <th>0</th>\n",
       "      <td>2015-12-27</td>\n",
       "      <td>1.33</td>\n",
       "      <td>64236.62</td>\n",
       "      <td>1036.74</td>\n",
       "      <td>54454.85</td>\n",
       "      <td>48.16</td>\n",
       "      <td>8696.87</td>\n",
       "      <td>0.0</td>\n",
       "      <td>conventional</td>\n",
       "      <td>2015</td>\n",
       "      <td>0</td>\n",
       "    </tr>\n",
       "    <tr>\n",
       "      <th>1</th>\n",
       "      <td>2015-12-20</td>\n",
       "      <td>1.35</td>\n",
       "      <td>54876.98</td>\n",
       "      <td>674.28</td>\n",
       "      <td>44638.81</td>\n",
       "      <td>58.33</td>\n",
       "      <td>9505.56</td>\n",
       "      <td>0.0</td>\n",
       "      <td>conventional</td>\n",
       "      <td>2015</td>\n",
       "      <td>0</td>\n",
       "    </tr>\n",
       "    <tr>\n",
       "      <th>2</th>\n",
       "      <td>2015-12-13</td>\n",
       "      <td>0.93</td>\n",
       "      <td>118220.22</td>\n",
       "      <td>794.70</td>\n",
       "      <td>109149.67</td>\n",
       "      <td>130.50</td>\n",
       "      <td>8145.35</td>\n",
       "      <td>0.0</td>\n",
       "      <td>conventional</td>\n",
       "      <td>2015</td>\n",
       "      <td>0</td>\n",
       "    </tr>\n",
       "    <tr>\n",
       "      <th>3</th>\n",
       "      <td>2015-12-06</td>\n",
       "      <td>1.08</td>\n",
       "      <td>78992.15</td>\n",
       "      <td>1132.00</td>\n",
       "      <td>71976.41</td>\n",
       "      <td>72.58</td>\n",
       "      <td>5811.16</td>\n",
       "      <td>0.0</td>\n",
       "      <td>conventional</td>\n",
       "      <td>2015</td>\n",
       "      <td>0</td>\n",
       "    </tr>\n",
       "    <tr>\n",
       "      <th>4</th>\n",
       "      <td>2015-11-29</td>\n",
       "      <td>1.28</td>\n",
       "      <td>51039.60</td>\n",
       "      <td>941.48</td>\n",
       "      <td>43838.39</td>\n",
       "      <td>75.78</td>\n",
       "      <td>6183.95</td>\n",
       "      <td>0.0</td>\n",
       "      <td>conventional</td>\n",
       "      <td>2015</td>\n",
       "      <td>0</td>\n",
       "    </tr>\n",
       "  </tbody>\n",
       "</table>\n",
       "</div>"
      ],
      "text/plain": [
       "        Date  AveragePrice  Total Volume  PLU_4046   PLU_4225  PLU_4770  \\\n",
       "0 2015-12-27          1.33      64236.62   1036.74   54454.85     48.16   \n",
       "1 2015-12-20          1.35      54876.98    674.28   44638.81     58.33   \n",
       "2 2015-12-13          0.93     118220.22    794.70  109149.67    130.50   \n",
       "3 2015-12-06          1.08      78992.15   1132.00   71976.41     72.58   \n",
       "4 2015-11-29          1.28      51039.60    941.48   43838.39     75.78   \n",
       "\n",
       "   Total Bags  XLarge Bags          type  year  region  \n",
       "0     8696.87          0.0  conventional  2015       0  \n",
       "1     9505.56          0.0  conventional  2015       0  \n",
       "2     8145.35          0.0  conventional  2015       0  \n",
       "3     5811.16          0.0  conventional  2015       0  \n",
       "4     6183.95          0.0  conventional  2015       0  "
      ]
     },
     "execution_count": 119,
     "metadata": {},
     "output_type": "execute_result"
    }
   ],
   "source": [
    "a_ds.head()\n"
   ]
  },
  {
   "cell_type": "code",
   "execution_count": 120,
   "id": "86d0d3a6",
   "metadata": {},
   "outputs": [
    {
     "data": {
      "text/html": [
       "<div>\n",
       "<style scoped>\n",
       "    .dataframe tbody tr th:only-of-type {\n",
       "        vertical-align: middle;\n",
       "    }\n",
       "\n",
       "    .dataframe tbody tr th {\n",
       "        vertical-align: top;\n",
       "    }\n",
       "\n",
       "    .dataframe thead th {\n",
       "        text-align: right;\n",
       "    }\n",
       "</style>\n",
       "<table border=\"1\" class=\"dataframe\">\n",
       "  <thead>\n",
       "    <tr style=\"text-align: right;\">\n",
       "      <th></th>\n",
       "      <th>Date</th>\n",
       "      <th>AveragePrice</th>\n",
       "      <th>Total Volume</th>\n",
       "      <th>PLU_4046</th>\n",
       "      <th>PLU_4225</th>\n",
       "      <th>PLU_4770</th>\n",
       "      <th>Total Bags</th>\n",
       "      <th>XLarge Bags</th>\n",
       "      <th>type</th>\n",
       "      <th>year</th>\n",
       "      <th>region</th>\n",
       "    </tr>\n",
       "  </thead>\n",
       "  <tbody>\n",
       "    <tr>\n",
       "      <th>18239</th>\n",
       "      <td>2018-03-11</td>\n",
       "      <td>1.56</td>\n",
       "      <td>22128.42</td>\n",
       "      <td>2162.67</td>\n",
       "      <td>3194.25</td>\n",
       "      <td>8.93</td>\n",
       "      <td>16762.57</td>\n",
       "      <td>0.0</td>\n",
       "      <td>organic</td>\n",
       "      <td>2018</td>\n",
       "      <td>53</td>\n",
       "    </tr>\n",
       "    <tr>\n",
       "      <th>18240</th>\n",
       "      <td>2018-03-04</td>\n",
       "      <td>1.54</td>\n",
       "      <td>17393.30</td>\n",
       "      <td>1832.24</td>\n",
       "      <td>1905.57</td>\n",
       "      <td>0.00</td>\n",
       "      <td>13655.49</td>\n",
       "      <td>0.0</td>\n",
       "      <td>organic</td>\n",
       "      <td>2018</td>\n",
       "      <td>53</td>\n",
       "    </tr>\n",
       "    <tr>\n",
       "      <th>18241</th>\n",
       "      <td>2018-02-25</td>\n",
       "      <td>1.57</td>\n",
       "      <td>18421.24</td>\n",
       "      <td>1974.26</td>\n",
       "      <td>2482.65</td>\n",
       "      <td>0.00</td>\n",
       "      <td>13964.33</td>\n",
       "      <td>0.0</td>\n",
       "      <td>organic</td>\n",
       "      <td>2018</td>\n",
       "      <td>53</td>\n",
       "    </tr>\n",
       "    <tr>\n",
       "      <th>18242</th>\n",
       "      <td>2018-02-18</td>\n",
       "      <td>1.56</td>\n",
       "      <td>17597.12</td>\n",
       "      <td>1892.05</td>\n",
       "      <td>1928.36</td>\n",
       "      <td>0.00</td>\n",
       "      <td>13776.71</td>\n",
       "      <td>0.0</td>\n",
       "      <td>organic</td>\n",
       "      <td>2018</td>\n",
       "      <td>53</td>\n",
       "    </tr>\n",
       "    <tr>\n",
       "      <th>18243</th>\n",
       "      <td>2018-02-11</td>\n",
       "      <td>1.57</td>\n",
       "      <td>15986.17</td>\n",
       "      <td>1924.28</td>\n",
       "      <td>1368.32</td>\n",
       "      <td>0.00</td>\n",
       "      <td>12693.57</td>\n",
       "      <td>0.0</td>\n",
       "      <td>organic</td>\n",
       "      <td>2018</td>\n",
       "      <td>53</td>\n",
       "    </tr>\n",
       "    <tr>\n",
       "      <th>18244</th>\n",
       "      <td>2018-02-04</td>\n",
       "      <td>1.63</td>\n",
       "      <td>17074.83</td>\n",
       "      <td>2046.96</td>\n",
       "      <td>1529.20</td>\n",
       "      <td>0.00</td>\n",
       "      <td>13498.67</td>\n",
       "      <td>0.0</td>\n",
       "      <td>organic</td>\n",
       "      <td>2018</td>\n",
       "      <td>53</td>\n",
       "    </tr>\n",
       "    <tr>\n",
       "      <th>18245</th>\n",
       "      <td>2018-01-28</td>\n",
       "      <td>1.71</td>\n",
       "      <td>13888.04</td>\n",
       "      <td>1191.70</td>\n",
       "      <td>3431.50</td>\n",
       "      <td>0.00</td>\n",
       "      <td>9264.84</td>\n",
       "      <td>0.0</td>\n",
       "      <td>organic</td>\n",
       "      <td>2018</td>\n",
       "      <td>53</td>\n",
       "    </tr>\n",
       "    <tr>\n",
       "      <th>18246</th>\n",
       "      <td>2018-01-21</td>\n",
       "      <td>1.87</td>\n",
       "      <td>13766.76</td>\n",
       "      <td>1191.92</td>\n",
       "      <td>2452.79</td>\n",
       "      <td>727.94</td>\n",
       "      <td>9394.11</td>\n",
       "      <td>0.0</td>\n",
       "      <td>organic</td>\n",
       "      <td>2018</td>\n",
       "      <td>53</td>\n",
       "    </tr>\n",
       "    <tr>\n",
       "      <th>18247</th>\n",
       "      <td>2018-01-14</td>\n",
       "      <td>1.93</td>\n",
       "      <td>16205.22</td>\n",
       "      <td>1527.63</td>\n",
       "      <td>2981.04</td>\n",
       "      <td>727.01</td>\n",
       "      <td>10969.54</td>\n",
       "      <td>0.0</td>\n",
       "      <td>organic</td>\n",
       "      <td>2018</td>\n",
       "      <td>53</td>\n",
       "    </tr>\n",
       "    <tr>\n",
       "      <th>18248</th>\n",
       "      <td>2018-01-07</td>\n",
       "      <td>1.62</td>\n",
       "      <td>17489.58</td>\n",
       "      <td>2894.77</td>\n",
       "      <td>2356.13</td>\n",
       "      <td>224.53</td>\n",
       "      <td>12014.15</td>\n",
       "      <td>0.0</td>\n",
       "      <td>organic</td>\n",
       "      <td>2018</td>\n",
       "      <td>53</td>\n",
       "    </tr>\n",
       "  </tbody>\n",
       "</table>\n",
       "</div>"
      ],
      "text/plain": [
       "            Date  AveragePrice  Total Volume  PLU_4046  PLU_4225  PLU_4770  \\\n",
       "18239 2018-03-11          1.56      22128.42   2162.67   3194.25      8.93   \n",
       "18240 2018-03-04          1.54      17393.30   1832.24   1905.57      0.00   \n",
       "18241 2018-02-25          1.57      18421.24   1974.26   2482.65      0.00   \n",
       "18242 2018-02-18          1.56      17597.12   1892.05   1928.36      0.00   \n",
       "18243 2018-02-11          1.57      15986.17   1924.28   1368.32      0.00   \n",
       "18244 2018-02-04          1.63      17074.83   2046.96   1529.20      0.00   \n",
       "18245 2018-01-28          1.71      13888.04   1191.70   3431.50      0.00   \n",
       "18246 2018-01-21          1.87      13766.76   1191.92   2452.79    727.94   \n",
       "18247 2018-01-14          1.93      16205.22   1527.63   2981.04    727.01   \n",
       "18248 2018-01-07          1.62      17489.58   2894.77   2356.13    224.53   \n",
       "\n",
       "       Total Bags  XLarge Bags     type  year  region  \n",
       "18239    16762.57          0.0  organic  2018      53  \n",
       "18240    13655.49          0.0  organic  2018      53  \n",
       "18241    13964.33          0.0  organic  2018      53  \n",
       "18242    13776.71          0.0  organic  2018      53  \n",
       "18243    12693.57          0.0  organic  2018      53  \n",
       "18244    13498.67          0.0  organic  2018      53  \n",
       "18245     9264.84          0.0  organic  2018      53  \n",
       "18246     9394.11          0.0  organic  2018      53  \n",
       "18247    10969.54          0.0  organic  2018      53  \n",
       "18248    12014.15          0.0  organic  2018      53  "
      ]
     },
     "execution_count": 120,
     "metadata": {},
     "output_type": "execute_result"
    }
   ],
   "source": [
    "a_ds.tail(10)\n"
   ]
  },
  {
   "cell_type": "code",
   "execution_count": 121,
   "id": "9b9eacde",
   "metadata": {},
   "outputs": [
    {
     "name": "stdout",
     "output_type": "stream",
     "text": [
      "0.028001534330648226  data we lost after outlier treatment\n"
     ]
    }
   ],
   "source": [
    "# Treating the outlier with zscore and delete the date and year columns, i kept it for EDA purpose.\n",
    "a_ds.drop(columns=[\"Date\",\"year\",\"type\"],axis = 1,inplace = True)\n",
    "\n",
    "score = np.abs(zscore(a_ds))\n",
    "\n",
    "new_avocado_ds = a_ds[(score <3).all(axis = 1)]\n",
    "\n",
    "# how much data lost post outlier treamement\n",
    "\n",
    "data_loss = len(new_avocado_ds)/len(a_ds)\n",
    "print(1- data_loss,\" data we lost after outlier treatment\")"
   ]
  },
  {
   "cell_type": "markdown",
   "id": "27cfc2e2",
   "metadata": {},
   "source": [
    "we have corrected the outlier using the z score and seen that we have lost 2.8% data approx and it seem ok to lose."
   ]
  },
  {
   "cell_type": "code",
   "execution_count": 122,
   "id": "ca018e99",
   "metadata": {},
   "outputs": [
    {
     "name": "stdout",
     "output_type": "stream",
     "text": [
      "before PLU_4046       4.628222\n",
      "PLU_4225       4.262080\n",
      "PLU_4770       4.919251\n",
      "XLarge Bags    6.063918\n",
      "dtype: float64\n",
      "after 0   -0.037857\n",
      "1   -0.044224\n",
      "2    0.022830\n",
      "3    0.839903\n",
      "dtype: float64\n"
     ]
    }
   ],
   "source": [
    "from sklearn.preprocessing import power_transform\n",
    "select_data =new_avocado_ds[[\"PLU_4046\",\"PLU_4225\",\"PLU_4770\",\"XLarge Bags\"]]\n",
    "\n",
    "print(\"before\",select_data.skew())\n",
    "select_data = power_transform(select_data,method='yeo-johnson', standardize=False)\n",
    "tranform_data = pd.DataFrame(select_data)\n",
    "print(\"after\",tranform_data.skew())"
   ]
  },
  {
   "cell_type": "code",
   "execution_count": 123,
   "id": "8363c5ad",
   "metadata": {},
   "outputs": [],
   "source": [
    "# checking the name of the columsn becaue after power_transform it get convert into numpy array and index value assigned to columns.\n",
    "tranform_data.rename(columns = {0:\"PT_PLU_4046\",1:\"PT_PLU_4225\",2:\"PT_PLU_4770\",3:\"PT_Xlarge Bags\"}, inplace = True)\n",
    "# joining transformed data \n",
    "\n",
    "new_avocado_ds = pd.concat([new_avocado_ds,tranform_data],axis = 1,join = \"inner\")\n",
    "\n",
    "# since transformed features are added in the data so we need to deleted original one to avoid duplicacy\n",
    "new_avocado_ds.drop(columns =[\"PLU_4046\",\"PLU_4225\",\"PLU_4770\",\"XLarge Bags\"],axis =1, inplace =True)"
   ]
  },
  {
   "cell_type": "code",
   "execution_count": 124,
   "id": "ef0ef876",
   "metadata": {},
   "outputs": [
    {
     "data": {
      "text/plain": [
       "AveragePrice      0.402183\n",
       "Total Volume      3.697542\n",
       "Total Bags        4.479318\n",
       "region            0.021079\n",
       "PT_PLU_4046      -0.019568\n",
       "PT_PLU_4225      -0.035632\n",
       "PT_PLU_4770       0.030491\n",
       "PT_Xlarge Bags    0.870667\n",
       "dtype: float64"
      ]
     },
     "execution_count": 124,
     "metadata": {},
     "output_type": "execute_result"
    }
   ],
   "source": [
    "new_avocado_ds.skew()\n"
   ]
  },
  {
   "cell_type": "code",
   "execution_count": 125,
   "id": "b6201ad4",
   "metadata": {},
   "outputs": [],
   "source": [
    "new_avocado_ds[\"Total Volume\"] = np.log1p(new_avocado_ds[\"Total Volume\"])\n",
    "new_avocado_ds[\"Total Bags\"] = np.log1p(new_avocado_ds[\"Total Bags\"])"
   ]
  },
  {
   "cell_type": "code",
   "execution_count": 126,
   "id": "6ec79b13",
   "metadata": {},
   "outputs": [
    {
     "data": {
      "text/plain": [
       "AveragePrice      0.402183\n",
       "Total Volume     -0.068264\n",
       "Total Bags       -0.372818\n",
       "region            0.021079\n",
       "PT_PLU_4046      -0.019568\n",
       "PT_PLU_4225      -0.035632\n",
       "PT_PLU_4770       0.030491\n",
       "PT_Xlarge Bags    0.870667\n",
       "dtype: float64"
      ]
     },
     "execution_count": 126,
     "metadata": {},
     "output_type": "execute_result"
    }
   ],
   "source": [
    "new_avocado_ds.skew()\n"
   ]
  },
  {
   "cell_type": "markdown",
   "id": "aae0669f",
   "metadata": {},
   "source": [
    "we had skewness in a few of the features in the dataset and which has been corrected by using power transform and two columns have been corrected by using log1p because while performing power transform on these two feature these were not getting conveted. Power transform return result in the form of array hence we had to rename the columns name after converting them into pandas data Frame.\n",
    "We took features serprataly which had high skewness and assigned them in other variable. performed power transform and concat the transformed features into original dataset by using pandas function."
   ]
  },
  {
   "cell_type": "code",
   "execution_count": 127,
   "id": "b0a66a55",
   "metadata": {},
   "outputs": [
    {
     "data": {
      "text/plain": [
       "<AxesSubplot:>"
      ]
     },
     "execution_count": 127,
     "metadata": {},
     "output_type": "execute_result"
    },
    {
     "data": {
      "image/png": "[encoded data removed]",
      "text/plain": [
       "<Figure size 864x432 with 2 Axes>"
      ]
     },
     "metadata": {
      "needs_background": "light"
     },
     "output_type": "display_data"
    }
   ],
   "source": [
    "plt.figure(figsize=(12,6))\n",
    "sns.heatmap(new_avocado_ds.corr(),annot = True)"
   ]
  },
  {
   "cell_type": "markdown",
   "id": "89eaf37c",
   "metadata": {},
   "source": [
    "Total Volume and Total bags are highly correlated and we should drop one."
   ]
  },
  {
   "cell_type": "code",
   "execution_count": 128,
   "id": "91144d7b",
   "metadata": {},
   "outputs": [],
   "source": [
    "new_avocado_dsX_check = new_avocado_ds.copy()\n"
   ]
  },
  {
   "cell_type": "code",
   "execution_count": 129,
   "id": "adb9df7c",
   "metadata": {},
   "outputs": [],
   "source": [
    "new_avocado_ds.drop(\"Total Bags\",axis =1, inplace = True)\n"
   ]
  },
  {
   "cell_type": "code",
   "execution_count": 130,
   "id": "38a10977",
   "metadata": {},
   "outputs": [
    {
     "data": {
      "text/plain": [
       "<AxesSubplot:>"
      ]
     },
     "execution_count": 130,
     "metadata": {},
     "output_type": "execute_result"
    },
    {
     "data": {
      "image/png": "[encoded data removed]",
      "text/plain": [
       "<Figure size 864x432 with 2 Axes>"
      ]
     },
     "metadata": {
      "needs_background": "light"
     },
     "output_type": "display_data"
    }
   ],
   "source": [
    "plt.figure(figsize=(12,6))\n",
    "sns.heatmap(new_avocado_ds.corr(),annot = True)"
   ]
  },
  {
   "cell_type": "markdown",
   "id": "f3673914",
   "metadata": {},
   "source": [
    "# Data Modeling"
   ]
  },
  {
   "cell_type": "code",
   "execution_count": 134,
   "id": "d629a374",
   "metadata": {},
   "outputs": [
    {
     "name": "stdout",
     "output_type": "stream",
     "text": [
      "Training Score 0.3603600789277399 Random state 50\n",
      "Test Score 0.36175744761978723\n",
      "Mean Squared Error 0.09789300571189162\n",
      "R2 Score 0.36175744761978723 \n",
      "\n",
      "Training Score 0.35696449665586827 Random state 125\n",
      "Test Score 0.3757026092970026\n",
      "Mean Squared Error 0.09365963696151894\n",
      "R2 Score 0.3757026092970026 \n",
      "\n",
      "Training Score 0.3551452666701044 Random state 200\n",
      "Test Score 0.3823646110063498\n",
      "Mean Squared Error 0.09491765092945283\n",
      "R2 Score 0.3823646110063498 \n",
      "\n",
      "Training Score 0.3601877664503592 Random state 275\n",
      "Test Score 0.36266836705641015\n",
      "Mean Squared Error 0.09621805005387338\n",
      "R2 Score 0.36266836705641015 \n",
      "\n",
      "Training Score 0.36438336699173446 Random state 350\n",
      "Test Score 0.3455119087983668\n",
      "Mean Squared Error 0.09896125448615331\n",
      "R2 Score 0.3455119087983668 \n",
      "\n",
      "Training Score 0.36270719885066116 Random state 425\n",
      "Test Score 0.3519952955082648\n",
      "Mean Squared Error 0.09699691835945794\n",
      "R2 Score 0.3519952955082648 \n",
      "\n"
     ]
    }
   ],
   "source": [
    "# seprate data into train and test and create model\n",
    "\n",
    "X = new_avocado_ds.drop(\"AveragePrice\",axis =1)\n",
    "y =new_avocado_ds[\"AveragePrice\"]\n",
    "\n",
    "# Applying standard scaler to scale the data point.\n",
    "\n",
    "sc = StandardScaler()\n",
    "X = sc.fit_transform(X)\n",
    "\n",
    "\n",
    "# we will find best random state wit this for loop.\n",
    "for i in range(50,500,75):\n",
    "    LR = LinearRegression()\n",
    "    X_train,X_test,y_train,y_test = train_test_split(X,y,test_size = 0.2, random_state =i)\n",
    "    LR.fit(X_train,y_train)\n",
    "    print(\"Training Score\",LR.score(X_train,y_train),\"Random state\",i)\n",
    "    pred = LR.predict(X_test)\n",
    "    print(\"Test Score\",LR.score(X_test,y_test))\n",
    "    print(\"Mean Squared Error\",mean_squared_error(y_test,pred))\n",
    "    print(\"R2 Score\",r2_score(y_test,pred),\"\\n\")"
   ]
  },
  {
   "cell_type": "code",
   "execution_count": 135,
   "id": "70874620",
   "metadata": {},
   "outputs": [
    {
     "name": "stdout",
     "output_type": "stream",
     "text": [
      "Training Score 0.9727463949324572 Random State 50\n",
      "Test Score 0.8127950699828208\n",
      "Mean Squared Error 0.028713305333720254\n",
      "R2 Score 0.8127950699828208 \n",
      "\n",
      "Training Score 0.9736094468802661 Random State 100\n",
      "Test Score 0.8036436880339106\n",
      "Mean Squared Error 0.029198734788160187\n",
      "R2 Score 0.8036436880339106 \n",
      "\n",
      "Training Score 0.9729856188581275 Random State 150\n",
      "Test Score 0.8095577106748664\n",
      "Mean Squared Error 0.028804943496807893\n",
      "R2 Score 0.8095577106748664 \n",
      "\n",
      "Training Score 0.9732124481780147 Random State 200\n",
      "Test Score 0.8023042180037055\n",
      "Mean Squared Error 0.030381709921648285\n",
      "R2 Score 0.8023042180037055 \n",
      "\n",
      "Training Score 0.9729685164021491 Random State 250\n",
      "Test Score 0.8107047669321215\n",
      "Mean Squared Error 0.02994786394950667\n",
      "R2 Score 0.8107047669321215 \n",
      "\n",
      "Training Score 0.9729786839040054 Random State 300\n",
      "Test Score 0.8047288280801415\n",
      "Mean Squared Error 0.029996773868253043\n",
      "R2 Score 0.8047288280801415 \n",
      "\n",
      "Training Score 0.9729484586590632 Random State 350\n",
      "Test Score 0.8066234542523376\n",
      "Mean Squared Error 0.02923931819791061\n",
      "R2 Score 0.8066234542523376 \n",
      "\n",
      "Training Score 0.9729965655117365 Random State 400\n",
      "Test Score 0.811941968723333\n",
      "Mean Squared Error 0.029228914747533363\n",
      "R2 Score 0.811941968723333 \n",
      "\n",
      "Training Score 0.9731250971604305 Random State 450\n",
      "Test Score 0.8077304786930688\n",
      "Mean Squared Error 0.02912436792222867\n",
      "R2 Score 0.8077304786930688 \n",
      "\n"
     ]
    }
   ],
   "source": [
    "# testing\n",
    "for i in range(50,500,50):\n",
    "    RF = RandomForestRegressor()\n",
    "    X_train,X_test,y_train,y_test = train_test_split(X,y,test_size = 0.2, random_state =i)\n",
    "    RF.fit(X_train,y_train)\n",
    "    print(\"Training Score\",RF.score(X_train,y_train),\"Random State\",i)\n",
    "    pred = RF.predict(X_test)\n",
    "    print(\"Test Score\",RF.score(X_test,y_test))\n",
    "    print(\"Mean Squared Error\",mean_squared_error(y_test,pred))\n",
    "    print(\"R2 Score\",r2_score(y_test,pred),\"\\n\")"
   ]
  },
  {
   "cell_type": "markdown",
   "id": "014086dc",
   "metadata": {},
   "source": [
    "we have check two algorithm for checking the best random stats. linear regression didnt work well so i tried Randomforest, it is giving somewhat good test score and found best random state.so we will used other model with that randomforest"
   ]
  },
  {
   "cell_type": "code",
   "execution_count": 136,
   "id": "1567233e",
   "metadata": {},
   "outputs": [
    {
     "name": "stdout",
     "output_type": "stream",
     "text": [
      "Training Score 0.3594323722035345 Algorithm Name LinearRegression()\n",
      "Test Score 0.3656355574751614\n",
      "Mean Squared Error 0.09609148291048905\n",
      "R2 Score 0.3656355574751614 \n",
      "\n",
      "Training Score 0.3594323696641841 Algorithm Name Ridge()\n",
      "Test Score 0.3656335145161601\n",
      "Mean Squared Error 0.09609179237133963\n",
      "R2 Score 0.3656335145161601 \n",
      "\n",
      "Training Score 0.0 Algorithm Name Lasso()\n",
      "Test Score -4.5272832748022296e-05\n",
      "Mean Squared Error 0.15148363748392268\n",
      "R2 Score -4.5272832748022296e-05 \n",
      "\n",
      "Training Score 0.9733153488870572 Algorithm Name RandomForestRegressor()\n",
      "Test Score 0.8073241400403983\n",
      "Mean Squared Error 0.02918591879280325\n",
      "R2 Score 0.8073241400403983 \n",
      "\n",
      "Training Score 0.41100325824076434 Algorithm Name AdaBoostRegressor()\n",
      "Test Score 0.40976720274878964\n",
      "Mean Squared Error 0.08940656340153254\n",
      "R2 Score 0.40976720274878964 \n",
      "\n",
      "Training Score 1.0 Algorithm Name DecisionTreeRegressor()\n",
      "Test Score 0.6332587347822851\n",
      "Mean Squared Error 0.0555527858386535\n",
      "R2 Score 0.6332587347822851 \n",
      "\n",
      "Training Score 0.496809029832734 Algorithm Name SVR()\n",
      "Test Score 0.4792436170966894\n",
      "Mean Squared Error 0.07888249989093964\n",
      "R2 Score 0.4792436170966894 \n",
      "\n",
      "Training Score 0.835976504114995 Algorithm Name KNeighborsRegressor()\n",
      "Test Score 0.7383135650597887\n",
      "Mean Squared Error 0.03963941845618108\n",
      "R2 Score 0.7383135650597887 \n",
      "\n"
     ]
    }
   ],
   "source": [
    "models = [LinearRegression(),Ridge(),Lasso(),RandomForestRegressor(),AdaBoostRegressor(),DecisionTreeRegressor(),SVR(),KNeighborsRegressor()]\n",
    "\n",
    "for model in models:\n",
    "    X_train1,X_test1,y_train1,y_test1 = train_test_split(X,y,test_size = 0.2, random_state =450)\n",
    "    model.fit(X_train,y_train)\n",
    "    print(\"Training Score\",model.score(X_train,y_train),\"Algorithm Name\",model)\n",
    "    pred = model.predict(X_test)\n",
    "    print(\"Test Score\",model.score(X_test,y_test))\n",
    "    print(\"Mean Squared Error\",mean_squared_error(y_test,pred))\n",
    "    print(\"R2 Score\",r2_score(y_test,pred),\"\\n\")"
   ]
  },
  {
   "cell_type": "markdown",
   "id": "55206604",
   "metadata": {},
   "source": [
    "In RandomForestRegressor ,I note that the training MAE is very small. The testing MAE, instead, is very big.Since the training MAE is small and the testing MAE is big,\n",
    "\n",
    "\n",
    "KNN is giving best score on trainin as well test so i am selecting it for final model and applying GridSearchCV. Randomforest is kind of overfit model.\n",
    "\n"
   ]
  },
  {
   "cell_type": "code",
   "execution_count": 137,
   "id": "f259acc5",
   "metadata": {},
   "outputs": [
    {
     "name": "stdout",
     "output_type": "stream",
     "text": [
      "Fitting 5 folds for each of 36 candidates, totalling 180 fits\n",
      "{'max_depth': 5, 'max_features': 'auto', 'n_estimators': 100}\n"
     ]
    }
   ],
   "source": [
    "RF = RandomForestRegressor()\n",
    "para = {\"n_estimators\":[100,200,300],\n",
    "       \"max_depth\":[2,3,4,5],\n",
    "       \"max_features\":[\"auto\", \"sqrt\", \"log2\"]}\n",
    "\n",
    "grid_search_RF = GridSearchCV(RF,para,scoring=\"r2\",cv = 5, n_jobs = -1, verbose =2)\n",
    "grid_search_RF.fit(X_train1,y_train1)\n",
    "print(grid_search_RF.best_params_)"
   ]
  },
  {
   "cell_type": "code",
   "execution_count": 138,
   "id": "db6263bb",
   "metadata": {},
   "outputs": [
    {
     "data": {
      "text/plain": [
       "0.507244837891085"
      ]
     },
     "execution_count": 138,
     "metadata": {},
     "output_type": "execute_result"
    }
   ],
   "source": [
    "grid_search_RF.best_score_\n"
   ]
  },
  {
   "cell_type": "code",
   "execution_count": 139,
   "id": "39ccd924",
   "metadata": {},
   "outputs": [
    {
     "name": "stdout",
     "output_type": "stream",
     "text": [
      "Fitting 5 folds for each of 64 candidates, totalling 320 fits\n",
      "{'algorithm': 'auto', 'n_neighbors': 5, 'p': 1, 'weights': 'distance'}\n"
     ]
    }
   ],
   "source": [
    "knn = KNeighborsRegressor()\n",
    "grid_para = {\"n_neighbors\":[5,7,10,12],\n",
    "            \"weights\":[\"uniform\", \"distance\"],\n",
    "            \"algorithm\" :[\"auto\", \"ball_tree\", \"kd_tree\", \"brute\"],\n",
    "            \"p\" :[1,2]}\n",
    "grid_search_KNN = GridSearchCV(knn,grid_para,scoring=\"r2\",cv = 5, n_jobs = -1, verbose =2)\n",
    "grid_search_KNN.fit(X_train1,y_train1)\n",
    "print(grid_search_KNN.best_params_)"
   ]
  },
  {
   "cell_type": "code",
   "execution_count": 140,
   "id": "59609e8c",
   "metadata": {},
   "outputs": [
    {
     "data": {
      "text/plain": [
       "0.7604882888957685"
      ]
     },
     "execution_count": 140,
     "metadata": {},
     "output_type": "execute_result"
    }
   ],
   "source": [
    "grid_search_KNN.best_score_\n"
   ]
  },
  {
   "cell_type": "markdown",
   "id": "fbcbc1db",
   "metadata": {},
   "source": [
    "we have got the best parameter through Grid Search CV, appying cross_val_score"
   ]
  },
  {
   "cell_type": "code",
   "execution_count": 141,
   "id": "8a36a403",
   "metadata": {},
   "outputs": [
    {
     "name": "stdout",
     "output_type": "stream",
     "text": [
      "At 2 mean is  -0.23083733289513503 and the SD is  0.04625959580504514\n",
      "At 3 mean is  -0.11123318386316246 and the SD is  0.028748024980627607\n",
      "At 4 mean is  -0.10696003871964681 and the SD is  0.03060943043964907\n",
      "At 5 mean is  -0.10174654723021312 and the SD is  0.031448139705340564\n",
      "At 6 mean is  -0.09790790284754765 and the SD is  0.04105386940681135\n",
      "At 7 mean is  -0.0971048316069942 and the SD is  0.03919449447077543\n",
      "At 8 mean is  -0.09719142110699497 and the SD is  0.03718114218969699\n",
      "At 9 mean is  -0.0979262768940348 and the SD is  0.041764896849672856\n"
     ]
    }
   ],
   "source": [
    "best_RF = RandomForestRegressor(max_depth = 5,max_features=\"auto\",n_estimators =200)\n",
    "\n",
    "for i in range(2,10):\n",
    "    cross_val_report = cross_val_score(best_RF,X,y,scoring = \"neg_mean_squared_error\",cv = i)\n",
    "    print(\"At\",i,\"mean is \",cross_val_report.mean() ,\"and the SD is \",cross_val_report.std())"
   ]
  },
  {
   "cell_type": "code",
   "execution_count": 143,
   "id": "0bedc09b",
   "metadata": {},
   "outputs": [
    {
     "name": "stdout",
     "output_type": "stream",
     "text": [
      "At 2 mean is  -0.3563191356618137 and the SD is  0.000776502743917773\n",
      "At 3 mean is  -0.13747937660642737 and the SD is  0.022994342846130042\n",
      "At 4 mean is  -0.14527153989423175 and the SD is  0.02710468716638193\n",
      "At 5 mean is  -0.13668055849676414 and the SD is  0.03623319430782806\n",
      "At 6 mean is  -0.1299518005915109 and the SD is  0.04541631819689351\n",
      "At 7 mean is  -0.13032286863452916 and the SD is  0.040633793944686976\n",
      "At 8 mean is  -0.12906784228416518 and the SD is  0.04052784279409999\n",
      "At 9 mean is  -0.13182902383045236 and the SD is  0.04603260537851408\n"
     ]
    }
   ],
   "source": [
    "best_knn =  knn = KNeighborsRegressor(algorithm =\"auto\",p =1,weights = \"distance\")\n",
    "\n",
    "for i in range(2,10):\n",
    "    cross_val_report = cross_val_score(best_knn,X,y,scoring = \"neg_mean_squared_error\",cv = i)\n",
    "    print(\"At\",i,\"mean is \",cross_val_report.mean() ,\"and the SD is \",cross_val_report.std())"
   ]
  },
  {
   "cell_type": "markdown",
   "id": "f3d5ed10",
   "metadata": {},
   "source": [
    "i have checked GridSreach CV on Randomforest and KNN. Using GridSreachCV on randomforest because it was overfit model and though of that by hyperparameter tuning we can save the overfitting but KNN is working robust in this situation. we have seen that cross_val_score at 4 iteration, it isgood other than that. Thus it is the better that other. we will save the same model for future use."
   ]
  },
  {
   "cell_type": "markdown",
   "id": "851786f3",
   "metadata": {},
   "source": [
    "# Saving Model"
   ]
  },
  {
   "cell_type": "code",
   "execution_count": 144,
   "id": "3d1b8721",
   "metadata": {},
   "outputs": [],
   "source": [
    "best_knn.fit(X,y)\n",
    "import pickle\n",
    "filename = \"Avocado.pkl\"\n",
    "with open(filename,\"wb\") as f:\n",
    "    pickle.dump(best_knn,f)"
   ]
  },
  {
   "cell_type": "markdown",
   "id": "4ba125df",
   "metadata": {},
   "source": [
    "### Conclusion:\n",
    "\n",
    "As we already mentioned that dataset had lot of missing value which we handled. Outlier and skewness also get corrected.We have done analysis and check the trend also. i have checked correlation and VIF, it has observed that predictor are correlated thus multicolinerrity was in existance.it ought to be treated and we did that and data was ready for Modeling.\n",
    "\n",
    "Dataset has been segrigated into train and test with best random state.\n",
    "Data has been trained on multiple models like linear regression , ensemble methods. support vector machine and KNN, among all the algorithms, KNN has given good test and train accuracy.\n",
    "KNN is picked as final Model and applied Gridsearch CV to find the best parameter to train it further.We got these {'algorithm': 'auto', 'n_neighbors': 5, 'p': 1, 'weights': 'distance'} best parameter, i have used these parameter with cross_val_score and saved model with these parameter."
   ]
  },
  {
   "cell_type": "code",
   "execution_count": null,
   "id": "5a0d661f",
   "metadata": {},
   "outputs": [],
   "source": []
  }
 ],
 "metadata": {
  "kernelspec": {
   "display_name": "Python 3 (ipykernel)",
   "language": "python",
   "name": "python3"
  },
  "language_info": {
   "codemirror_mode": {
    "name": "ipython",
    "version": 3
   },
   "file_extension": ".py",
   "mimetype": "text/x-python",
   "name": "python",
   "nbconvert_exporter": "python",
   "pygments_lexer": "ipython3",
   "version": "3.9.7"
  }
 },
 "nbformat": 4,
 "nbformat_minor": 5
}
